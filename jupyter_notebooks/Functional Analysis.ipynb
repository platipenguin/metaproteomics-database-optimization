{
 "cells": [
  {
   "cell_type": "markdown",
   "metadata": {},
   "source": [
    "**5/3/21**\n",
    "\n",
    "The purpose of this notebook is to analyze the functions of bacterial and human proteins identified and annotated by Eggnog Mapper. I'm interested both in the functions that are differentially abundant based on BV status, as well as the different functions that are identified by databases populated by public or sequencing-based proteins."
   ]
  },
  {
   "cell_type": "code",
   "execution_count": 1,
   "metadata": {},
   "outputs": [],
   "source": [
    "from elliot_utils import *\n",
    "from scipy import stats"
   ]
  },
  {
   "cell_type": "code",
   "execution_count": 2,
   "metadata": {},
   "outputs": [],
   "source": [
    "analysisPath = Path.cwd().joinpath('analysis_files/functional_analysis/')"
   ]
  },
  {
   "cell_type": "code",
   "execution_count": 3,
   "metadata": {},
   "outputs": [],
   "source": [
    "tResults = getOrderedFiles(TAILORED_RESULTS, '.tsv')\n",
    "hResults = getOrderedFiles(HYBRID_RESULTS, '.tsv')\n",
    "sResults = getOrderedFiles(SINGLE_RESULTS, '.tsv')\n",
    "cResults = getOrderedFiles(COMMUNITY_RESULTS, '.tsv')\n",
    "pResults = getOrderedFiles(POOLED_RESULTS, '.tsv')"
   ]
  },
  {
   "cell_type": "code",
   "execution_count": 4,
   "metadata": {},
   "outputs": [],
   "source": [
    "tPeps = getFilteredPeptides(tResults, 'bacteria')\n",
    "hPeps = getFilteredPeptides(hResults, 'bacteria')\n",
    "sPeps = getFilteredPeptides(sResults, 'bacteria')\n",
    "cPeps = getFilteredPeptides(cResults, 'bacteria')\n",
    "pPeps = getFilteredPeptides(pResults, 'bacteria')\n",
    "tHPeps = getFilteredPeptides(tResults, 'human')\n",
    "hHPeps = getFilteredPeptides(hResults, 'human')\n",
    "sHPeps = getFilteredPeptides(sResults, 'human')\n",
    "cHPeps = getFilteredPeptides(cResults, 'human')\n",
    "pHPeps = getFilteredPeptides(pResults, 'human')"
   ]
  },
  {
   "cell_type": "code",
   "execution_count": 5,
   "metadata": {},
   "outputs": [],
   "source": [
    "# Processes a string in the format: 'GO:XXXXXXX,'\n",
    "def processGOList(listString):\n",
    "    stripped = listString.replace('GO:', '')\n",
    "    return stripped.split(',')\n",
    "\n",
    "# Associate protein IDs with GO numbers from eggnog annotation\n",
    "# Eggnog fails to annotate some proteins. Those proteins are added to the output dictionary as \"unannotated\"\n",
    "# Returns a dictionary in the form key=protein ID, value=list of GO numbers\n",
    "def extractFuncs(fastaFile, annotFile):\n",
    "    toReturn = {} # key=protein ID, value=list of GO numbers\n",
    "    with open(fastaFile, 'r') as database:\n",
    "        rawText = database.read()\n",
    "        dataList = rawText.split('\\n>')\n",
    "        dataList[0] = dataList[0][1:]\n",
    "        del rawText\n",
    "        for sequence in dataList:\n",
    "            newProt = Protein(sequence)\n",
    "            toReturn[newProt.id] = ['unannotated']\n",
    "    annotDF = pd.read_csv(annotFile, sep='\\t')\n",
    "    for index, row in annotDF.iterrows():\n",
    "        protID = row['#query']\n",
    "        annotations = []\n",
    "        if row['GOs'] == '-':\n",
    "            annotations = ['unannotated']\n",
    "        else:\n",
    "            annotations = processGOList(row['GOs'])\n",
    "        toReturn[protID] = annotations\n",
    "    return toReturn"
   ]
  },
  {
   "cell_type": "code",
   "execution_count": 6,
   "metadata": {},
   "outputs": [],
   "source": [
    "bfuncs = extractFuncs(analysisPath.joinpath('all_hit_bacterial_proteins.fasta'), analysisPath.joinpath('eggnog_bacterial_annotations.tsv'))\n",
    "hfuncs = extractFuncs(analysisPath.joinpath('all_hit_human_proteins.fasta'), analysisPath.joinpath('eggnog_human_annotations.tsv'))"
   ]
  },
  {
   "cell_type": "code",
   "execution_count": 7,
   "metadata": {},
   "outputs": [],
   "source": [
    "allRef = ProtRef(analysisPath.joinpath('all_hit_bacterial_proteins.fasta'))"
   ]
  },
  {
   "cell_type": "code",
   "execution_count": 8,
   "metadata": {},
   "outputs": [],
   "source": [
    "# Get relative abundance values for all GO numbers across the samples\n",
    "# Returns a dictionary in the form {'annotation1':[sample_1_abundance, sample_2_abundance...], etc.}\n",
    "def getFunctionRelativeAbundances(results, allowedPeps, typeOfProt, funcRef, transform=True):\n",
    "    toReturn = {} # key=annotation, value=list of abundance for annotation in each sample\n",
    "    for goList in funcRef.values():\n",
    "        for goNumber in goList:\n",
    "            toReturn[goNumber] = []\n",
    "    for res in results:\n",
    "        total = 0\n",
    "        counts = {} # key=annotation, value=spectral count for that annotation in this sample\n",
    "        for annot in toReturn.keys():\n",
    "            counts[annot] = 0\n",
    "        with res.open(mode='r') as infile:\n",
    "            reader = csv.reader(infile, delimiter='\\t')\n",
    "            for row in reader:\n",
    "                protType = determineIDType(row)\n",
    "                if protType == 'first':\n",
    "                    continue\n",
    "                if not isSignificant(row):\n",
    "                    break\n",
    "                if row[PEPTIDE] in allowedPeps:\n",
    "                    total += 1\n",
    "                    hits = getProteinHitList(row, typeOfProt)\n",
    "                    hitAnnots = set()\n",
    "                    for hit in hits:\n",
    "                        annotList = funcRef[hit]\n",
    "                        for annot in annotList:\n",
    "                            hitAnnots.add(annot)\n",
    "                    for a in hitAnnots:\n",
    "                        counts[a] += 1\n",
    "        if transform:\n",
    "            for annot in toReturn.keys():\n",
    "                toReturn[annot].append(math.log2((counts[annot] / total) + 1))\n",
    "        else:\n",
    "            for annot in toReturn.keys():\n",
    "                toReturn[annot].append(counts[annot] / total)\n",
    "    return toReturn"
   ]
  },
  {
   "cell_type": "code",
   "execution_count": 9,
   "metadata": {},
   "outputs": [],
   "source": [
    "# Returns true if all the numbers in the list are 0, false otherwise\n",
    "def allZeros(numList):\n",
    "    for num in numList:\n",
    "        if not num == 0:\n",
    "            return False\n",
    "    return True\n",
    "\n",
    "# Tests whether a group of annotations are significantly differentially abundant using the mann-whitney U test.\n",
    "# annotDict must be in the format {'annotation':[list of transformed values, corresponding to ordered samples]}\n",
    "# Returns a list of tuples in the format ('annotation', p-value, BV- avg, BV+ avg)\n",
    "def test4Significance(annotDict):\n",
    "    toReturn = []\n",
    "    for protName, data in annotDict.items():\n",
    "        negData = []\n",
    "        posData = []\n",
    "        for i in range(len(BV_STATUS)):\n",
    "            if BV_STATUS[i] == '-':\n",
    "                negData.append(data[i])\n",
    "            else:\n",
    "                posData.append(data[i])\n",
    "        pVal = 1\n",
    "        if not allZeros(negData) or not allZeros(posData):\n",
    "            res = stats.mannwhitneyu(negData, posData)\n",
    "            pVal = res.pvalue\n",
    "        toReturn.append((protName, pVal, sum(negData)/len(negData), sum(posData)/len(posData)))\n",
    "    toReturn.sort(key=lambda x: x[1])\n",
    "    sigCount = 0\n",
    "    for x in toReturn:\n",
    "        if x[1] < 0.01:\n",
    "            sigCount += 1\n",
    "    print(sigCount)\n",
    "    return toReturn\n",
    "\n",
    "# Write the results of differential abundance testing for annotations out to the specified csv file\n",
    "def writeSigData2File(sigData, outputPath):\n",
    "    with outputPath.open(mode='w', newline='') as outfile:\n",
    "        writer = csv.writer(outfile)\n",
    "        writer.writerow(['Annotation', 'p-value', 'BV- Average', 'BV+ Average'])\n",
    "        for row in sigData:\n",
    "            writer.writerow(row)"
   ]
  },
  {
   "cell_type": "code",
   "execution_count": 10,
   "metadata": {},
   "outputs": [
    {
     "name": "stdout",
     "output_type": "stream",
     "text": [
      "460\n"
     ]
    }
   ],
   "source": [
    "# 16S_Sample-Matched Bacteria\n",
    "tBacteriaAbundance = getFunctionRelativeAbundances(tResults, tPeps, 'bacteria', bfuncs)\n",
    "tbAnnotData = test4Significance(tBacteriaAbundance)"
   ]
  },
  {
   "cell_type": "code",
   "execution_count": 11,
   "metadata": {},
   "outputs": [
    {
     "name": "stdout",
     "output_type": "stream",
     "text": [
      "1881\n"
     ]
    }
   ],
   "source": [
    "# 16S_Sample-Matched Human\n",
    "tHumanAbundance = getFunctionRelativeAbundances(tResults, tHPeps, 'human', hfuncs)\n",
    "thAnnotData = test4Significance(tHumanAbundance)"
   ]
  },
  {
   "cell_type": "code",
   "execution_count": 12,
   "metadata": {},
   "outputs": [
    {
     "name": "stdout",
     "output_type": "stream",
     "text": [
      "386\n"
     ]
    }
   ],
   "source": [
    "# 16S_Pooled Bacteria\n",
    "cBacteriaAbundance = getFunctionRelativeAbundances(cResults, cPeps, 'bacteria', bfuncs)\n",
    "cbAnnotData = test4Significance(cBacteriaAbundance)"
   ]
  },
  {
   "cell_type": "code",
   "execution_count": 13,
   "metadata": {},
   "outputs": [
    {
     "name": "stdout",
     "output_type": "stream",
     "text": [
      "1713\n"
     ]
    }
   ],
   "source": [
    "# 16S_Pooled Human\n",
    "cHumanAbundance = getFunctionRelativeAbundances(cResults, cHPeps, 'human', hfuncs)\n",
    "chAnnotData = test4Significance(cHumanAbundance)"
   ]
  },
  {
   "cell_type": "code",
   "execution_count": 14,
   "metadata": {},
   "outputs": [
    {
     "name": "stdout",
     "output_type": "stream",
     "text": [
      "411\n"
     ]
    }
   ],
   "source": [
    "# Shotgun_Sample-Matched Bacteria\n",
    "sBacteriaAbundance = getFunctionRelativeAbundances(sResults, sPeps, 'bacteria', bfuncs)\n",
    "sbAnnotData = test4Significance(sBacteriaAbundance)\n",
    "writeSigData2File(sbAnnotData, analysisPath.joinpath('differential_Annotations_single_bacteria.csv'))"
   ]
  },
  {
   "cell_type": "code",
   "execution_count": 15,
   "metadata": {},
   "outputs": [
    {
     "name": "stdout",
     "output_type": "stream",
     "text": [
      "1935\n"
     ]
    }
   ],
   "source": [
    "# Shotgun_Sample-Matched Human\n",
    "sHumanAbundance = getFunctionRelativeAbundances(sResults, sHPeps, 'human', hfuncs)\n",
    "shAnnotData = test4Significance(sHumanAbundance)"
   ]
  },
  {
   "cell_type": "code",
   "execution_count": 16,
   "metadata": {},
   "outputs": [
    {
     "name": "stdout",
     "output_type": "stream",
     "text": [
      "377\n"
     ]
    }
   ],
   "source": [
    "# Shotgun_Pooled Bacteria\n",
    "pBacteriaAbundance = getFunctionRelativeAbundances(pResults, pPeps, 'bacteria', bfuncs)\n",
    "pbAnnotData = test4Significance(pBacteriaAbundance)"
   ]
  },
  {
   "cell_type": "code",
   "execution_count": 17,
   "metadata": {},
   "outputs": [
    {
     "name": "stdout",
     "output_type": "stream",
     "text": [
      "1710\n"
     ]
    }
   ],
   "source": [
    "# Shotgun_Pooled Human\n",
    "pHumanAbundance = getFunctionRelativeAbundances(pResults, pHPeps, 'human', hfuncs)\n",
    "phAnnotData = test4Significance(pHumanAbundance)"
   ]
  },
  {
   "cell_type": "code",
   "execution_count": 18,
   "metadata": {},
   "outputs": [
    {
     "name": "stdout",
     "output_type": "stream",
     "text": [
      "479\n"
     ]
    }
   ],
   "source": [
    "# Hybrid_Sample-Matched Bacteria\n",
    "hBacteriaAbundance = getFunctionRelativeAbundances(hResults, hPeps, 'bacteria', bfuncs)\n",
    "hbAnnotData = test4Significance(hBacteriaAbundance)\n",
    "writeSigData2File(hbAnnotData, analysisPath.joinpath('differential_annotations_hybrid_bacteria.csv'))"
   ]
  },
  {
   "cell_type": "code",
   "execution_count": 19,
   "metadata": {},
   "outputs": [
    {
     "name": "stdout",
     "output_type": "stream",
     "text": [
      "1903\n"
     ]
    }
   ],
   "source": [
    "# Hybrid_Sample-Matched Human\n",
    "hHumanAbundance = getFunctionRelativeAbundances(hResults, hHPeps, 'human', hfuncs)\n",
    "hhAnnotData = test4Significance(hHumanAbundance)\n",
    "writeSigData2File(hhAnnotData, analysisPath.joinpath('differential_annotations_hybrid_human.csv'))"
   ]
  }
 ],
 "metadata": {
  "kernelspec": {
   "display_name": "Python 3",
   "language": "python",
   "name": "python3"
  },
  "language_info": {
   "codemirror_mode": {
    "name": "ipython",
    "version": 3
   },
   "file_extension": ".py",
   "mimetype": "text/x-python",
   "name": "python",
   "nbconvert_exporter": "python",
   "pygments_lexer": "ipython3",
   "version": "3.6.4"
  }
 },
 "nbformat": 4,
 "nbformat_minor": 4
}
