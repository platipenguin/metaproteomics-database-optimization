{
 "cells": [
  {
   "cell_type": "markdown",
   "metadata": {},
   "source": [
    "**12/16/21**\n",
    "\n",
    "The purpose of this notebook is to build Tailored databases that include contaminant sequences, then refine them."
   ]
  },
  {
   "cell_type": "code",
   "execution_count": 2,
   "metadata": {},
   "outputs": [],
   "source": [
    "from elliot_utils import *"
   ]
  },
  {
   "cell_type": "code",
   "execution_count": 3,
   "metadata": {},
   "outputs": [],
   "source": [
    "# Get locations of the data\n",
    "analysisPath = Path.cwd().joinpath('analysis_files/tailored_db_building/')\n",
    "bacteriaDir = Path.cwd().joinpath('../PublicSequences/Combined_AllNCBI_12-21/')\n",
    "humanFile = Path.cwd().joinpath('../PublicSequences/Human9606_2-6-2019_TrypPigBov.fasta')\n",
    "sample2SpeciesFile = analysisPath.joinpath('Tailored0_1.csv')"
   ]
  },
  {
   "cell_type": "code",
   "execution_count": 3,
   "metadata": {},
   "outputs": [],
   "source": [
    "# Get human and contaminant data from the file\n",
    "humanData = ''\n",
    "with humanFile.open(mode='r') as infile:\n",
    "    humanData = infile.read()"
   ]
  },
  {
   "cell_type": "code",
   "execution_count": 4,
   "metadata": {},
   "outputs": [],
   "source": [
    "# Collect species -> protein associations\n",
    "protDict = {} # key=species name, value=list of protein objects from that species's fasta file\n",
    "for fastafile in bacteriaDir.iterdir():\n",
    "    species = fastafile.stem.replace('_', ' ')\n",
    "    data = ''\n",
    "    with fastafile.open(mode='r') as infile:\n",
    "        data = infile.read()\n",
    "    protList = []\n",
    "    dataList = data.split('\\n>')\n",
    "    dataList[0] = dataList[0][1:]\n",
    "    del data\n",
    "    for sequence in dataList:\n",
    "        protList.append(Protein(sequence))\n",
    "    protDict[species] = protList"
   ]
  },
  {
   "cell_type": "code",
   "execution_count": 5,
   "metadata": {},
   "outputs": [],
   "source": [
    "# Get sample -> species associations\n",
    "sample2species = {} # key=sample name, value=list of species that are present in that sample at >0.1% abundance\n",
    "with sample2SpeciesFile.open(mode='r', encoding='utf-8-sig') as infile:\n",
    "    reader = csv.reader(infile)\n",
    "    for row in reader:\n",
    "        sampleName = row[0].split('_')[0]\n",
    "        speciesList = []\n",
    "        for i in range(1, len(row)):\n",
    "            if row[i] == '':\n",
    "                break\n",
    "            if row[i] == 'Null':\n",
    "                continue\n",
    "            speciesList.append(row[i])\n",
    "        sample2species[sampleName] = speciesList"
   ]
  },
  {
   "cell_type": "code",
   "execution_count": 4,
   "metadata": {},
   "outputs": [],
   "source": [
    "dbPath = Path.cwd().joinpath('../12-16-21_NextflowMSGF_Tailored4_Combined/databases/')"
   ]
  },
  {
   "cell_type": "code",
   "execution_count": 45,
   "metadata": {},
   "outputs": [],
   "source": [
    "# Write out the initial databases for each sample\n",
    "for sample, speciesList in sample2species.items():\n",
    "    dbProteins = {} #key=protein sequence, value=protein object\n",
    "    for species in speciesList:\n",
    "        for prot in protDict[species]:\n",
    "            if prot.sequence in dbProteins.keys():\n",
    "                dbProteins[prot.sequence].addTaxa(species)\n",
    "            else:\n",
    "                dbProteins[prot.sequence] = prot\n",
    "    toWrite = [humanData]\n",
    "    for prot in dbProteins.values():\n",
    "        toWrite.append(prot.getEntry())\n",
    "    with dbPath.joinpath(f'{sample}_TailoredDatabase.fasta').open(mode='w', newline='') as dbfile:\n",
    "        dbfile.write(''.join(toWrite))"
   ]
  },
  {
   "cell_type": "code",
   "execution_count": 6,
   "metadata": {},
   "outputs": [
    {
     "ename": "FileNotFoundError",
     "evalue": "[WinError 3] The system cannot find the path specified: 'E:\\\\Proteomics\\\\jupyter_notebooks\\\\..\\\\12-16-21_NextflowMSGF_Tailored4_Combined\\\\output'",
     "output_type": "error",
     "traceback": [
      "\u001b[1;31m---------------------------------------------------------------------------\u001b[0m",
      "\u001b[1;31mFileNotFoundError\u001b[0m                         Traceback (most recent call last)",
      "\u001b[1;32m<ipython-input-6-e93581ad2597>\u001b[0m in \u001b[0;36m<module>\u001b[1;34m\u001b[0m\n\u001b[0;32m      1\u001b[0m \u001b[1;31m# Refine tailored dbs for second round of searching\u001b[0m\u001b[1;33m\u001b[0m\u001b[1;33m\u001b[0m\u001b[0m\n\u001b[0;32m      2\u001b[0m \u001b[0mtailoredDBs\u001b[0m \u001b[1;33m=\u001b[0m \u001b[0mgetOrderedFiles\u001b[0m\u001b[1;33m(\u001b[0m\u001b[0mdbPath\u001b[0m\u001b[1;33m,\u001b[0m \u001b[1;34m'.fasta'\u001b[0m\u001b[1;33m)\u001b[0m\u001b[1;33m\u001b[0m\u001b[0m\n\u001b[1;32m----> 3\u001b[1;33m \u001b[0munprocessedUnrefined\u001b[0m \u001b[1;33m=\u001b[0m \u001b[0mgetOrderedFiles\u001b[0m\u001b[1;33m(\u001b[0m\u001b[0mPath\u001b[0m\u001b[1;33m.\u001b[0m\u001b[0mcwd\u001b[0m\u001b[1;33m(\u001b[0m\u001b[1;33m)\u001b[0m\u001b[1;33m.\u001b[0m\u001b[0mjoinpath\u001b[0m\u001b[1;33m(\u001b[0m\u001b[1;34m'../12-16-21_NextflowMSGF_Tailored4_Combined/output/'\u001b[0m\u001b[1;33m)\u001b[0m\u001b[1;33m,\u001b[0m \u001b[1;34m'.tsv'\u001b[0m\u001b[1;33m)\u001b[0m\u001b[1;33m\u001b[0m\u001b[0m\n\u001b[0m\u001b[0;32m      4\u001b[0m \u001b[0mprocessedUnrefinedDir\u001b[0m \u001b[1;33m=\u001b[0m \u001b[0mPath\u001b[0m\u001b[1;33m.\u001b[0m\u001b[0mcwd\u001b[0m\u001b[1;33m(\u001b[0m\u001b[1;33m)\u001b[0m\u001b[1;33m.\u001b[0m\u001b[0mjoinpath\u001b[0m\u001b[1;33m(\u001b[0m\u001b[1;34m'../12-16-21_NextflowMSGF_Tailored4_Combined/output_processed/'\u001b[0m\u001b[1;33m)\u001b[0m\u001b[1;33m\u001b[0m\u001b[0m\n",
      "\u001b[1;32mE:\\Proteomics\\jupyter_notebooks\\elliot_utils.py\u001b[0m in \u001b[0;36mgetOrderedFiles\u001b[1;34m(directory, suffix)\u001b[0m\n\u001b[0;32m   1198\u001b[0m \u001b[1;31m# Returns the files in the given directory of the given suffix in a list, ordered by their name\u001b[0m\u001b[1;33m\u001b[0m\u001b[1;33m\u001b[0m\u001b[0m\n\u001b[0;32m   1199\u001b[0m \u001b[1;32mdef\u001b[0m \u001b[0mgetOrderedFiles\u001b[0m\u001b[1;33m(\u001b[0m\u001b[0mdirectory\u001b[0m\u001b[1;33m,\u001b[0m \u001b[0msuffix\u001b[0m\u001b[1;33m)\u001b[0m\u001b[1;33m:\u001b[0m\u001b[1;33m\u001b[0m\u001b[0m\n\u001b[1;32m-> 1200\u001b[1;33m     \u001b[0mtoReturn\u001b[0m \u001b[1;33m=\u001b[0m \u001b[1;33m[\u001b[0m\u001b[0mx\u001b[0m \u001b[1;32mfor\u001b[0m \u001b[0mx\u001b[0m \u001b[1;32min\u001b[0m \u001b[0mdirectory\u001b[0m\u001b[1;33m.\u001b[0m\u001b[0miterdir\u001b[0m\u001b[1;33m(\u001b[0m\u001b[1;33m)\u001b[0m \u001b[1;32mif\u001b[0m \u001b[0mx\u001b[0m\u001b[1;33m.\u001b[0m\u001b[0msuffix\u001b[0m \u001b[1;33m==\u001b[0m \u001b[0msuffix\u001b[0m\u001b[1;33m]\u001b[0m\u001b[1;33m\u001b[0m\u001b[0m\n\u001b[0m\u001b[0;32m   1201\u001b[0m     \u001b[0mtoReturn\u001b[0m\u001b[1;33m.\u001b[0m\u001b[0msort\u001b[0m\u001b[1;33m(\u001b[0m\u001b[0mkey\u001b[0m\u001b[1;33m=\u001b[0m\u001b[1;32mlambda\u001b[0m \u001b[0mx\u001b[0m\u001b[1;33m:\u001b[0m \u001b[0mx\u001b[0m\u001b[1;33m.\u001b[0m\u001b[0mname\u001b[0m\u001b[1;33m)\u001b[0m\u001b[1;33m\u001b[0m\u001b[0m\n\u001b[0;32m   1202\u001b[0m     \u001b[1;32mreturn\u001b[0m \u001b[0mtoReturn\u001b[0m\u001b[1;33m\u001b[0m\u001b[0m\n",
      "\u001b[1;32mE:\\Proteomics\\jupyter_notebooks\\elliot_utils.py\u001b[0m in \u001b[0;36m<listcomp>\u001b[1;34m(.0)\u001b[0m\n\u001b[0;32m   1198\u001b[0m \u001b[1;31m# Returns the files in the given directory of the given suffix in a list, ordered by their name\u001b[0m\u001b[1;33m\u001b[0m\u001b[1;33m\u001b[0m\u001b[0m\n\u001b[0;32m   1199\u001b[0m \u001b[1;32mdef\u001b[0m \u001b[0mgetOrderedFiles\u001b[0m\u001b[1;33m(\u001b[0m\u001b[0mdirectory\u001b[0m\u001b[1;33m,\u001b[0m \u001b[0msuffix\u001b[0m\u001b[1;33m)\u001b[0m\u001b[1;33m:\u001b[0m\u001b[1;33m\u001b[0m\u001b[0m\n\u001b[1;32m-> 1200\u001b[1;33m     \u001b[0mtoReturn\u001b[0m \u001b[1;33m=\u001b[0m \u001b[1;33m[\u001b[0m\u001b[0mx\u001b[0m \u001b[1;32mfor\u001b[0m \u001b[0mx\u001b[0m \u001b[1;32min\u001b[0m \u001b[0mdirectory\u001b[0m\u001b[1;33m.\u001b[0m\u001b[0miterdir\u001b[0m\u001b[1;33m(\u001b[0m\u001b[1;33m)\u001b[0m \u001b[1;32mif\u001b[0m \u001b[0mx\u001b[0m\u001b[1;33m.\u001b[0m\u001b[0msuffix\u001b[0m \u001b[1;33m==\u001b[0m \u001b[0msuffix\u001b[0m\u001b[1;33m]\u001b[0m\u001b[1;33m\u001b[0m\u001b[0m\n\u001b[0m\u001b[0;32m   1201\u001b[0m     \u001b[0mtoReturn\u001b[0m\u001b[1;33m.\u001b[0m\u001b[0msort\u001b[0m\u001b[1;33m(\u001b[0m\u001b[0mkey\u001b[0m\u001b[1;33m=\u001b[0m\u001b[1;32mlambda\u001b[0m \u001b[0mx\u001b[0m\u001b[1;33m:\u001b[0m \u001b[0mx\u001b[0m\u001b[1;33m.\u001b[0m\u001b[0mname\u001b[0m\u001b[1;33m)\u001b[0m\u001b[1;33m\u001b[0m\u001b[0m\n\u001b[0;32m   1202\u001b[0m     \u001b[1;32mreturn\u001b[0m \u001b[0mtoReturn\u001b[0m\u001b[1;33m\u001b[0m\u001b[0m\n",
      "\u001b[1;32mc:\\program files\\python36\\lib\\pathlib.py\u001b[0m in \u001b[0;36miterdir\u001b[1;34m(self)\u001b[0m\n\u001b[0;32m   1057\u001b[0m         \u001b[1;32mif\u001b[0m \u001b[0mself\u001b[0m\u001b[1;33m.\u001b[0m\u001b[0m_closed\u001b[0m\u001b[1;33m:\u001b[0m\u001b[1;33m\u001b[0m\u001b[0m\n\u001b[0;32m   1058\u001b[0m             \u001b[0mself\u001b[0m\u001b[1;33m.\u001b[0m\u001b[0m_raise_closed\u001b[0m\u001b[1;33m(\u001b[0m\u001b[1;33m)\u001b[0m\u001b[1;33m\u001b[0m\u001b[0m\n\u001b[1;32m-> 1059\u001b[1;33m         \u001b[1;32mfor\u001b[0m \u001b[0mname\u001b[0m \u001b[1;32min\u001b[0m \u001b[0mself\u001b[0m\u001b[1;33m.\u001b[0m\u001b[0m_accessor\u001b[0m\u001b[1;33m.\u001b[0m\u001b[0mlistdir\u001b[0m\u001b[1;33m(\u001b[0m\u001b[0mself\u001b[0m\u001b[1;33m)\u001b[0m\u001b[1;33m:\u001b[0m\u001b[1;33m\u001b[0m\u001b[0m\n\u001b[0m\u001b[0;32m   1060\u001b[0m             \u001b[1;32mif\u001b[0m \u001b[0mname\u001b[0m \u001b[1;32min\u001b[0m \u001b[1;33m{\u001b[0m\u001b[1;34m'.'\u001b[0m\u001b[1;33m,\u001b[0m \u001b[1;34m'..'\u001b[0m\u001b[1;33m}\u001b[0m\u001b[1;33m:\u001b[0m\u001b[1;33m\u001b[0m\u001b[0m\n\u001b[0;32m   1061\u001b[0m                 \u001b[1;31m# Yielding a path object for these makes little sense\u001b[0m\u001b[1;33m\u001b[0m\u001b[1;33m\u001b[0m\u001b[0m\n",
      "\u001b[1;32mc:\\program files\\python36\\lib\\pathlib.py\u001b[0m in \u001b[0;36mwrapped\u001b[1;34m(pathobj, *args)\u001b[0m\n\u001b[0;32m    385\u001b[0m         \u001b[1;33m@\u001b[0m\u001b[0mfunctools\u001b[0m\u001b[1;33m.\u001b[0m\u001b[0mwraps\u001b[0m\u001b[1;33m(\u001b[0m\u001b[0mstrfunc\u001b[0m\u001b[1;33m)\u001b[0m\u001b[1;33m\u001b[0m\u001b[0m\n\u001b[0;32m    386\u001b[0m         \u001b[1;32mdef\u001b[0m \u001b[0mwrapped\u001b[0m\u001b[1;33m(\u001b[0m\u001b[0mpathobj\u001b[0m\u001b[1;33m,\u001b[0m \u001b[1;33m*\u001b[0m\u001b[0margs\u001b[0m\u001b[1;33m)\u001b[0m\u001b[1;33m:\u001b[0m\u001b[1;33m\u001b[0m\u001b[0m\n\u001b[1;32m--> 387\u001b[1;33m             \u001b[1;32mreturn\u001b[0m \u001b[0mstrfunc\u001b[0m\u001b[1;33m(\u001b[0m\u001b[0mstr\u001b[0m\u001b[1;33m(\u001b[0m\u001b[0mpathobj\u001b[0m\u001b[1;33m)\u001b[0m\u001b[1;33m,\u001b[0m \u001b[1;33m*\u001b[0m\u001b[0margs\u001b[0m\u001b[1;33m)\u001b[0m\u001b[1;33m\u001b[0m\u001b[0m\n\u001b[0m\u001b[0;32m    388\u001b[0m         \u001b[1;32mreturn\u001b[0m \u001b[0mstaticmethod\u001b[0m\u001b[1;33m(\u001b[0m\u001b[0mwrapped\u001b[0m\u001b[1;33m)\u001b[0m\u001b[1;33m\u001b[0m\u001b[0m\n\u001b[0;32m    389\u001b[0m \u001b[1;33m\u001b[0m\u001b[0m\n",
      "\u001b[1;31mFileNotFoundError\u001b[0m: [WinError 3] The system cannot find the path specified: 'E:\\\\Proteomics\\\\jupyter_notebooks\\\\..\\\\12-16-21_NextflowMSGF_Tailored4_Combined\\\\output'"
     ]
    }
   ],
   "source": [
    "# Refine tailored dbs for second round of searching\n",
    "tailoredDBs = getOrderedFiles(dbPath, '.fasta')\n",
    "unprocessedUnrefined = getOrderedFiles(Path.cwd().joinpath('../12-16-21_NextflowMSGF_Tailored4_Combined/output/'), '.tsv')\n",
    "processedUnrefinedDir = Path.cwd().joinpath('../12-16-21_NextflowMSGF_Tailored4_Combined/output_processed/')"
   ]
  },
  {
   "cell_type": "code",
   "execution_count": 11,
   "metadata": {},
   "outputs": [],
   "source": [
    "collapseRepeatRows(unprocessedUnrefined, processedUnrefinedDir)"
   ]
  },
  {
   "cell_type": "code",
   "execution_count": 7,
   "metadata": {},
   "outputs": [
    {
     "ename": "NameError",
     "evalue": "name 'processedUnrefinedDir' is not defined",
     "output_type": "error",
     "traceback": [
      "\u001b[1;31m---------------------------------------------------------------------------\u001b[0m",
      "\u001b[1;31mNameError\u001b[0m                                 Traceback (most recent call last)",
      "\u001b[1;32m<ipython-input-7-c9653d036d7d>\u001b[0m in \u001b[0;36m<module>\u001b[1;34m\u001b[0m\n\u001b[0;32m      1\u001b[0m \u001b[0mrefinedDBDir\u001b[0m \u001b[1;33m=\u001b[0m \u001b[0mPath\u001b[0m\u001b[1;33m.\u001b[0m\u001b[0mcwd\u001b[0m\u001b[1;33m(\u001b[0m\u001b[1;33m)\u001b[0m\u001b[1;33m.\u001b[0m\u001b[0mjoinpath\u001b[0m\u001b[1;33m(\u001b[0m\u001b[1;34m'../12-16-21_NextflowMSGF_Tailored4_Combined/databases_refined/'\u001b[0m\u001b[1;33m)\u001b[0m\u001b[1;33m\u001b[0m\u001b[0m\n\u001b[1;32m----> 2\u001b[1;33m \u001b[0mprocessed\u001b[0m \u001b[1;33m=\u001b[0m \u001b[0mgetOrderedFiles\u001b[0m\u001b[1;33m(\u001b[0m\u001b[0mprocessedUnrefinedDir\u001b[0m\u001b[1;33m,\u001b[0m \u001b[1;34m'.tsv'\u001b[0m\u001b[1;33m)\u001b[0m\u001b[1;33m\u001b[0m\u001b[0m\n\u001b[0m",
      "\u001b[1;31mNameError\u001b[0m: name 'processedUnrefinedDir' is not defined"
     ]
    }
   ],
   "source": [
    "refinedDBDir = Path.cwd().joinpath('../12-16-21_NextflowMSGF_Tailored4_Combined/databases_refined/')\n",
    "processed = getOrderedFiles(processedUnrefinedDir, '.tsv')"
   ]
  },
  {
   "cell_type": "code",
   "execution_count": 13,
   "metadata": {},
   "outputs": [],
   "source": [
    "# For each sample, find all the proteins that were hit, regardless of significance\n",
    "for i in range(len(SAMPLE_NAMES)):\n",
    "    protsToInclude = set()\n",
    "    with processed[i].open(mode='r') as infile:\n",
    "        reader = csv.reader(infile, delimiter='\\t')\n",
    "        for row in reader:\n",
    "            protType = determineIDType(row)\n",
    "            if protType == 'first':\n",
    "                continue\n",
    "            hitProts = getProteinHitList(row, 'all')\n",
    "            for hit in hitProts:\n",
    "                if hit.find('XXX_') == -1: # Ignore decoy hits\n",
    "                    protsToInclude.add(hit)\n",
    "    # Get protein data for sequences to include from the initial database\n",
    "    protObjs = {} # key=protID, value=protein object\n",
    "    with open(tailoredDBs[i], 'r') as database:\n",
    "        rawText = database.read()\n",
    "        dataList = rawText.split('\\n>')\n",
    "        dataList[0] = dataList[0][1:]\n",
    "        del rawText\n",
    "        for sequence in dataList:\n",
    "            newProt = Protein(sequence)\n",
    "            if newProt.id in protsToInclude:\n",
    "                protObjs[newProt.id] = newProt\n",
    "    # Write the new databases to file\n",
    "    toWrite = []\n",
    "    for prot in protObjs.values():\n",
    "        toWrite.append(prot.getEntry())\n",
    "    with open(refinedDBDir.joinpath(f'{SAMPLE_NAMES[i]}_Tailored4_refined.fasta'), 'w', newline='') as output:\n",
    "        output.write(''.join(toWrite))"
   ]
  },
  {
   "cell_type": "code",
   "execution_count": 8,
   "metadata": {},
   "outputs": [],
   "source": [
    "refinedUnprocessed = getOrderedFiles(Path.cwd().joinpath('../12-16-21_NextflowMSGF_Tailored4_Combined/output_refined/'), '.tsv')\n",
    "refinedProcessedDir = Path.cwd().joinpath('../12-16-21_NextflowMSGF_Tailored4_Combined/output_refined_processed/')"
   ]
  },
  {
   "cell_type": "code",
   "execution_count": 9,
   "metadata": {},
   "outputs": [],
   "source": [
    "collapseRepeatRows(refinedUnprocessed, refinedProcessedDir)"
   ]
  }
 ],
 "metadata": {
  "kernelspec": {
   "display_name": "Python 3",
   "language": "python",
   "name": "python3"
  },
  "language_info": {
   "codemirror_mode": {
    "name": "ipython",
    "version": 3
   },
   "file_extension": ".py",
   "mimetype": "text/x-python",
   "name": "python",
   "nbconvert_exporter": "python",
   "pygments_lexer": "ipython3",
   "version": "3.6.4"
  }
 },
 "nbformat": 4,
 "nbformat_minor": 4
}
