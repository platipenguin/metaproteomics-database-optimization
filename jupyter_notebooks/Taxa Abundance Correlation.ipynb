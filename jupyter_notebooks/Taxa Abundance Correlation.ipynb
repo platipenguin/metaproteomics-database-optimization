{
 "cells": [
  {
   "cell_type": "code",
   "execution_count": 1,
   "metadata": {},
   "outputs": [],
   "source": [
    "from elliot_utils import *\n",
    "from scipy import stats"
   ]
  },
  {
   "cell_type": "code",
   "execution_count": 2,
   "metadata": {},
   "outputs": [],
   "source": [
    "figPath = Path.cwd().joinpath('figures/analyzing_hybrid/')\n",
    "analysisPath = Path.cwd().joinpath('analysis_files/analyzing_hybrid/')"
   ]
  },
  {
   "cell_type": "code",
   "execution_count": 3,
   "metadata": {},
   "outputs": [],
   "source": [
    "tailoredResults = getOrderedFiles(Path.cwd().joinpath(TAILORED_RESULTS), '.tsv')\n",
    "hybridResults = getOrderedFiles(Path.cwd().joinpath(HYBRID_RESULTS), '.tsv')"
   ]
  },
  {
   "cell_type": "code",
   "execution_count": 51,
   "metadata": {},
   "outputs": [],
   "source": [
    "tailoredRefs = []\n",
    "for dbFile in getOrderedFiles(TAILORED_DB, '.fasta'):\n",
    "    tailoredRefs.append(ProtRef(dbFile))\n",
    "hybridRefs = []\n",
    "for dbFile in getOrderedFiles(HYBRID_DB, '.fasta'):\n",
    "    hybridRefs.append(ProtRef(dbFile))"
   ]
  },
  {
   "cell_type": "code",
   "execution_count": 4,
   "metadata": {},
   "outputs": [],
   "source": [
    "tAllowedHumanPeps = getFilteredPeptides(tailoredResults, 'human')\n",
    "hAllowedHumanPeps = getFilteredPeptides(hybridResults, 'human')\n",
    "tAllowedBacteriaPeps = getFilteredPeptides(tailoredResults, 'bacteria')\n",
    "hAllowedBacteriaPeps = getFilteredPeptides(hybridResults, 'bacteria')"
   ]
  },
  {
   "cell_type": "code",
   "execution_count": 5,
   "metadata": {},
   "outputs": [],
   "source": [
    "# Returns a list with the number of statistically significant PSMs in the samples of the specified type.\n",
    "# Can specify a set of allowed peptides to filter\n",
    "def countSpectra(resultsList, lookFor, allowedPeps):\n",
    "    counts = []\n",
    "    for res in resultsList:\n",
    "        with res.open(mode='r') as infile:\n",
    "            reader = csv.reader(infile, delimiter='\\t')\n",
    "            count = 0\n",
    "            for row in reader:\n",
    "                protType = determineIDType(row)\n",
    "                if protType == 'first':\n",
    "                    continue\n",
    "                if not isSignificant(row):\n",
    "                    break\n",
    "                if protType == lookFor and row[PEPTIDE] in allowedPeps:\n",
    "                    count += 1\n",
    "        counts.append(count)\n",
    "    return counts"
   ]
  },
  {
   "cell_type": "code",
   "execution_count": 7,
   "metadata": {},
   "outputs": [],
   "source": [
    "tHumanCount = countSpectra(tailoredResults, 'human', allowedPeps=tAllowedHumanPeps)\n",
    "hHumanCount = countSpectra(hybridResults, 'human', allowedPeps=hAllowedHumanPeps)\n",
    "tBacteriaCount = countSpectra(tailoredResults, 'bacteria', allowedPeps=tAllowedBacteriaPeps)\n",
    "hBacteriaCount = countSpectra(hybridResults, 'bacteria', allowedPeps=hAllowedBacteriaPeps)"
   ]
  },
  {
   "cell_type": "markdown",
   "metadata": {},
   "source": [
    "What is the correlation between the number of genomes are available for an organism and how many new tryptic peptides you get for that organism when performing metagenomic sequencing?"
   ]
  },
  {
   "cell_type": "code",
   "execution_count": 14,
   "metadata": {},
   "outputs": [],
   "source": [
    "# Get the set of unique tryptic peptides I have for each organism, collapsing all Gardnerellas into G. vaginalis\n",
    "#trypticSets = {'Gardnerella vaginalis':set()} #key=species name, value=set of all tryptic peptides for the organism\n",
    "#for file in peptideDataDir.iterdir():\n",
    "#    if not file.suffix == '.fasta':\n",
    "#        continue\n",
    "#    speciesNameFasta = file.name.replace('_', ' ')\n",
    "#    speciesName = speciesNameFasta.replace('.fasta', '')\n",
    "#    if speciesName.find('Gardnerella') != -1:\n",
    "#        identifyTrypticPeptides(file, trypticSets['Gardnerella vaginalis'])\n",
    "#    else:\n",
    "#        trypticSets[speciesName] = set()\n",
    "#        identifyTrypticPeptides(file, trypticSets[speciesName])"
   ]
  },
  {
   "cell_type": "code",
   "execution_count": 20,
   "metadata": {},
   "outputs": [],
   "source": [
    "publicTrypticCountsFile = analysisPath.joinpath('public_tryptic_peptides.csv')"
   ]
  },
  {
   "cell_type": "code",
   "execution_count": 22,
   "metadata": {},
   "outputs": [],
   "source": [
    "# It took a while to get the number of tryptic peptides for all species, so I'll write that out to a csv file to make it easier to access\n",
    "with publicTrypticCountsFile.open(mode='w', newline='') as outfile:\n",
    "    writer = csv.writer(outfile)\n",
    "    for s, trypticSet in trypticSets.items():\n",
    "        species = s.replace('.fasta', '')\n",
    "        writer.writerow([species, str(len(trypticSet))])"
   ]
  },
  {
   "cell_type": "code",
   "execution_count": 15,
   "metadata": {},
   "outputs": [],
   "source": [
    "# Takes a deduplicated FASTA file of bacterial proteins\n",
    "# Adds all tryptic peptides with length ≥6 amino acids (Swaney, Wenger, & Coon [2010]) generated by processing all those proteins to the supplied set\n",
    "def identifyTrypticPeptides(fastaFile, trypticPeptides):\n",
    "    with open(fastaFile, 'r') as infile:\n",
    "        rawText = infile.read()\n",
    "        dataList = rawText.split('\\n>')\n",
    "        dataList[0] = dataList[0][1:]\n",
    "        del rawText\n",
    "        for sequence in dataList:\n",
    "            protein = Protein(sequence)\n",
    "            seq = protein.sequence\n",
    "            trypticList = []\n",
    "            for i in range(len(seq)):\n",
    "                trypticList.append(seq[i])\n",
    "                if i + 1 == len(seq):\n",
    "                    if len(trypticList) > 5:\n",
    "                        trypticPeptides.add(''.join(trypticList))\n",
    "                    trypticList = []\n",
    "                    continue\n",
    "                if (seq[i] == 'K' or seq[i] == 'R') and seq[i + 1] != 'P':\n",
    "                    if len(trypticList) > 5:\n",
    "                        trypticPeptides.add(''.join(trypticList))\n",
    "                    trypticList = []"
   ]
  },
  {
   "cell_type": "code",
   "execution_count": 25,
   "metadata": {},
   "outputs": [],
   "source": [
    "shotgunFile = Path.cwd().joinpath('../ShotgunMetagenomics/genes_annotated.fasta')\n",
    "shotgunReference = ProtRef(shotgunFile)"
   ]
  },
  {
   "cell_type": "code",
   "execution_count": 26,
   "metadata": {},
   "outputs": [],
   "source": [
    "# Returns a set of all tryptic peptides with length >5 amino acids in the supplied sequence\n",
    "def trypticDigest(seq):\n",
    "    trypticPeptides = set()\n",
    "    trypticList = []\n",
    "    for i in range(len(seq)):\n",
    "        trypticList.append(seq[i])\n",
    "        if i + 1 == len(seq):\n",
    "            if len(trypticList) > 5:\n",
    "                trypticPeptides.add(''.join(trypticList))\n",
    "            trypticList = []\n",
    "            continue\n",
    "        if (seq[i] == 'K' or seq[i] == 'R') and seq[i + 1] != 'P':\n",
    "            if len(trypticList) > 5:\n",
    "                trypticPeptides.add(''.join(trypticList))\n",
    "            trypticList = []\n",
    "    return trypticPeptides"
   ]
  },
  {
   "cell_type": "code",
   "execution_count": 12,
   "metadata": {},
   "outputs": [],
   "source": [
    "# Make a dictionary to translate metagenomic taxa calls to the names I'm using:\n",
    "shotgun2taxa = { #key=shotgun sequencing taxa name, value=updated taxa name\n",
    "    'Clostridiales bacterium KA00274':'BVAB2',\n",
    "    'Coriobacteriales bacterium DNF00809':'Lachnocurva vaginae',\n",
    "    'Candidatus Saccharibacteria':'TM7 H1',\n",
    "    'Megasphaera genomosp. type_1':'Megasphaera lornae',\n",
    "    'Megasphaera genomosp. type_2':'Megasphaera hutchinsoni'\n",
    "}"
   ]
  },
  {
   "cell_type": "markdown",
   "metadata": {},
   "source": [
    "What bacteria had the largest increase in the percent of spectra identified for them using the hybrid databases?"
   ]
  },
  {
   "cell_type": "code",
   "execution_count": 53,
   "metadata": {},
   "outputs": [],
   "source": [
    "# Takes in a dictionary in the format key=species name, value=number of PSMs attributable to that organism\n",
    "# Modifies the dictionary to count the total number of PSMs for that organism\n",
    "def countAllPsmsTaxa(dictToModify, results, allowedPeps, protRefs, taxaRef):\n",
    "    for i in range(len(results)):\n",
    "        ref = protRefs[i]\n",
    "        result = results[i]\n",
    "        with result.open(mode='r') as infile:\n",
    "            reader = csv.reader(infile, delimiter='\\t')\n",
    "            for row in reader:\n",
    "                protType = determineIDType(row)\n",
    "                if protType == 'first':\n",
    "                    continue\n",
    "                if not isSignificant(row):\n",
    "                    break\n",
    "                if protType == 'bacteria' and row[PEPTIDE] in allowedPeps:\n",
    "                    hits = getProteinHitList(row, 'bacteria')\n",
    "                    hitTaxa = set()\n",
    "                    for hit in hits:\n",
    "                        prot = ref.getProt(hit)\n",
    "                        for t in prot.taxa:\n",
    "                            taxaName = t\n",
    "                            if taxaName in taxaRef.keys():\n",
    "                                taxaName = taxaRef[taxaName]\n",
    "                            elif taxaName.find('Gardnerella') != -1:\n",
    "                                taxaName = 'Gardnerella vaginalis'\n",
    "                            hitTaxa.add(taxaName)\n",
    "                    for taxon in hitTaxa:\n",
    "                        if taxon in dictToModify.keys():\n",
    "                            dictToModify[taxon] += 1"
   ]
  },
  {
   "cell_type": "code",
   "execution_count": 64,
   "metadata": {},
   "outputs": [],
   "source": [
    "tPsms = {}\n",
    "hPsms = {}\n",
    "for t in differenceTryptics.keys():\n",
    "    tPsms[t] = 0\n",
    "    hPsms[t] = 0\n",
    "for t in shotgun2taxa.values():\n",
    "    tPsms[t] = 0\n",
    "    hPsms[t] = 0"
   ]
  },
  {
   "cell_type": "code",
   "execution_count": 65,
   "metadata": {},
   "outputs": [],
   "source": [
    "countAllPsmsTaxa(tPsms, tailoredResults, tAllowedBacteriaPeps, tailoredRefs, shotgun2taxa)\n",
    "countAllPsmsTaxa(hPsms, hybridResults, hAllowedBacteriaPeps, hybridRefs, shotgun2taxa)"
   ]
  },
  {
   "cell_type": "code",
   "execution_count": 66,
   "metadata": {},
   "outputs": [],
   "source": [
    "percentChangePsms = {} #key=species name, value=% increase PSMs for the species 16S -> Hybrid\n",
    "for t in tPsms.keys():\n",
    "    percentChangePsms[t] = ((hPsms[t] - tPsms[t]) / (1 + tPsms[t])) * 100"
   ]
  },
  {
   "cell_type": "code",
   "execution_count": 68,
   "metadata": {},
   "outputs": [],
   "source": [
    "# Record the percent change in PSMs for each taxa going from 16S -> Hybrid databases:\n",
    "taxaPsmChangeFile = analysisPath.joinpath('16s_to_hybrid_psm_change_taxa.csv')\n",
    "with taxaPsmChangeFile.open(mode='w', newline='') as outfile:\n",
    "    writer = csv.writer(outfile)\n",
    "    writer.writerow(['Species', 'Percent Increase PSMs'])\n",
    "    for t, percent in percentChangePsms.items():\n",
    "        writer.writerow([t, str(percent)])"
   ]
  },
  {
   "cell_type": "code",
   "execution_count": 81,
   "metadata": {},
   "outputs": [],
   "source": [
    "rawChangePsms = {} #key=species name, value=increase PSMs for the species 16S -> Hybrid\n",
    "for t in tPsms.keys():\n",
    "    rawChangePsms[t] = hPsms[t] - tPsms[t]"
   ]
  },
  {
   "cell_type": "code",
   "execution_count": 82,
   "metadata": {},
   "outputs": [],
   "source": [
    "# Record the change in PSMs for each taxa going from 16S -> Hybrid databases:\n",
    "taxaPsmRawChangeFile = analysisPath.joinpath('16s_to_hybrid_psm_change_raw_taxa.csv')\n",
    "with taxaPsmRawChangeFile.open(mode='w', newline='') as outfile:\n",
    "    writer = csv.writer(outfile)\n",
    "    writer.writerow(['Species', 'Number Increase PSMs'])\n",
    "    for t, percent in rawChangePsms.items():\n",
    "        writer.writerow([t, str(percent)])"
   ]
  }
 ],
 "metadata": {
  "kernelspec": {
   "display_name": "Python 3",
   "language": "python",
   "name": "python3"
  },
  "language_info": {
   "codemirror_mode": {
    "name": "ipython",
    "version": 3
   },
   "file_extension": ".py",
   "mimetype": "text/x-python",
   "name": "python",
   "nbconvert_exporter": "python",
   "pygments_lexer": "ipython3",
   "version": "3.6.4"
  }
 },
 "nbformat": 4,
 "nbformat_minor": 4
}
