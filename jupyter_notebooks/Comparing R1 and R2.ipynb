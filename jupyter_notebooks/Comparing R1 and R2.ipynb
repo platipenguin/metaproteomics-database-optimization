{
 "cells": [
  {
   "cell_type": "markdown",
   "metadata": {},
   "source": [
    "**1/14/21**\n",
    "\n",
    "Purpose of this notebook is to analyze the data from the two runs of the metaproteomic data from the Tailored V2 databases and determine what percent of peptides is shared between them."
   ]
  },
  {
   "cell_type": "code",
   "execution_count": 1,
   "metadata": {},
   "outputs": [],
   "source": [
    "from elliot_utils import *"
   ]
  },
  {
   "cell_type": "code",
   "execution_count": 2,
   "metadata": {},
   "outputs": [],
   "source": [
    "analysisPath = Path.cwd().joinpath('analysis_files/comparing_runs/')\n",
    "figPath = Path.cwd().joinpath('figures/comparing_runs/')"
   ]
  },
  {
   "cell_type": "code",
   "execution_count": 3,
   "metadata": {},
   "outputs": [],
   "source": [
    "r1ResPath = Path.cwd().joinpath('../1-18-21_NextflowMSGF_R1_Tailored/output/')\n",
    "r2ResPath = Path.cwd().joinpath('../1-19-21_NextflowMSGF_R2_Tailored/output/')"
   ]
  },
  {
   "cell_type": "code",
   "execution_count": 4,
   "metadata": {},
   "outputs": [],
   "source": [
    "r1Results = getOrderedFiles(r1ResPath, '.tsv')\n",
    "r2Results = getOrderedFiles(r2ResPath, '.tsv')"
   ]
  },
  {
   "cell_type": "code",
   "execution_count": 5,
   "metadata": {},
   "outputs": [],
   "source": [
    "# Get the peptide sequences for all spectra with q < 0.01, regardless of what the spectrum was matched to\n",
    "# Returns the peptide sequences in a set\n",
    "def getPeptidesSet(results):\n",
    "    toReturn = set()\n",
    "    for res in results:\n",
    "        with res.open(mode='r') as tsvin:\n",
    "            tsvReader = csv.reader(tsvin, delimiter='\\t')\n",
    "            for row in tsvReader:\n",
    "                if row[PROTEIN_HITS] == 'Protein':\n",
    "                    continue\n",
    "                if not isSignificant(row):\n",
    "                    break\n",
    "                toReturn.add(row[PEPTIDE])\n",
    "    return toReturn"
   ]
  },
  {
   "cell_type": "code",
   "execution_count": 6,
   "metadata": {},
   "outputs": [],
   "source": [
    "r1Peptides = getPeptidesSet(r1Results)\n",
    "r2Peptides = getPeptidesSet(r2Results)"
   ]
  },
  {
   "cell_type": "code",
   "execution_count": 7,
   "metadata": {},
   "outputs": [],
   "source": [
    "r1Only = r1Peptides.difference(r2Peptides)\n",
    "r2Only = r2Peptides.difference(r1Peptides)\n",
    "bothPeptides = r1Peptides.intersection(r2Peptides)"
   ]
  },
  {
   "cell_type": "code",
   "execution_count": 8,
   "metadata": {},
   "outputs": [
    {
     "name": "stdout",
     "output_type": "stream",
     "text": [
      "# peptides only identified in R1: 7001\n",
      "# peptides only identified in R2: 5559\n",
      "# peptides identified in both runs: 13725\n"
     ]
    }
   ],
   "source": [
    "print(f'# peptides only identified in R1: {str(len(r1Only))}')\n",
    "print(f'# peptides only identified in R2: {str(len(r2Only))}')\n",
    "print(f'# peptides identified in both runs: {str(len(bothPeptides))}')"
   ]
  },
  {
   "cell_type": "code",
   "execution_count": 9,
   "metadata": {},
   "outputs": [
    {
     "name": "stdout",
     "output_type": "stream",
     "text": [
      "R1 percent: 26.634962906600723\n",
      "R2 percent: 21.148944264789804\n",
      "Both percent: 52.216092828609476\n"
     ]
    }
   ],
   "source": [
    "totalPeptides = len(r1Only) + len(r2Only) + len(bothPeptides)\n",
    "r1Percent = (len(r1Only) / totalPeptides) * 100\n",
    "r2Percent = (len(r2Only) / totalPeptides) * 100\n",
    "bothPercent = (len(bothPeptides) / totalPeptides) * 100\n",
    "print(f'R1 percent: {str(r1Percent)}')\n",
    "print(f'R2 percent: {str(r2Percent)}')\n",
    "print(f'Both percent: {str(bothPercent)}')"
   ]
  },
  {
   "cell_type": "code",
   "execution_count": 10,
   "metadata": {},
   "outputs": [
    {
     "data": {
      "image/png": "[encoded data removed]",
      "text/plain": [
       "<Figure size 648x288 with 1 Axes>"
      ]
     },
     "metadata": {
      "needs_background": "light"
     },
     "output_type": "display_data"
    }
   ],
   "source": [
    "plt.rcParams[\"figure.figsize\"] = (9, 4)\n",
    "percentsDF = pd.DataFrame({'Run':['R1', 'Both', 'R2'], 'Percent of Identified Peptides':[r1Percent, bothPercent, r2Percent], '':[1, 1, 1]})\n",
    "ax = percentsDF.pivot(index='', columns='Run', values='Percent of Identified Peptides').plot(kind='barh', stacked=True, rot=90, color=['dimgray', 'black', 'silver'])\n",
    "ax.set_xlabel('Percent of Total Identified Peptides')\n",
    "ax.set_xlim(0, 100)\n",
    "ax.legend(loc='lower left', bbox_to_anchor=(1, 0.5))\n",
    "plt.savefig(figPath.joinpath('percent_peptides_bar.png'), bbox_inches='tight', dpi=300)"
   ]
  }
 ],
 "metadata": {
  "kernelspec": {
   "display_name": "Python 3",
   "language": "python",
   "name": "python3"
  },
  "language_info": {
   "codemirror_mode": {
    "name": "ipython",
    "version": 3
   },
   "file_extension": ".py",
   "mimetype": "text/x-python",
   "name": "python",
   "nbconvert_exporter": "python",
   "pygments_lexer": "ipython3",
   "version": "3.6.4"
  }
 },
 "nbformat": 4,
 "nbformat_minor": 4
}
