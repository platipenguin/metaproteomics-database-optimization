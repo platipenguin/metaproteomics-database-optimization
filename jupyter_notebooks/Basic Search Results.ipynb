{
 "cells": [
  {
   "cell_type": "markdown",
   "metadata": {},
   "source": [
    "**6/1/20**\n",
    "\n",
    "I'm going to use this notebook to answer some basic quesitons about the results of the various database searches to compare against other proteomic publications. These questions include: How many human and bacterial proteins did my search identify? Is the distribution of spectral hits for peptides normal, or do I need to run them through a log transformation before performing statistical tests? Does the search identify about the same number of PSMs in each sample, or does it vary? What percent of the PSMs in BV+ samples are human vs. BV-?"
   ]
  },
  {
   "cell_type": "code",
   "execution_count": 1,
   "metadata": {},
   "outputs": [],
   "source": [
    "from elliot_utils import *"
   ]
  },
  {
   "cell_type": "code",
   "execution_count": 2,
   "metadata": {},
   "outputs": [],
   "source": [
    "results = getOrderedFiles(TAILORED_RESULTS, '.tsv')\n",
    "comResults = getOrderedFiles(COMMUNITY_RESULTS, '.tsv')\n",
    "combResults = getOrderedFiles(POOLED_RESULTS, '.tsv')\n",
    "indResults = getOrderedFiles(SINGLE_RESULTS, '.tsv')\n",
    "hybResults = getOrderedFiles(HYBRID_RESULTS, '.tsv')\n",
    "analysisPath = Path.cwd().joinpath('analysis_files/basic_search_results/')\n",
    "figPath = Path.cwd().joinpath('figures/basic_search_results/')"
   ]
  },
  {
   "cell_type": "markdown",
   "metadata": {},
   "source": [
    "Determine the number of unique human and bacterial proteins identified by my searches"
   ]
  },
  {
   "cell_type": "code",
   "execution_count": 3,
   "metadata": {},
   "outputs": [],
   "source": [
    "# Prints the number of unique human and bacterial proteins identified in the set of results.\n",
    "# Requires a set of human filtered peptides and bacterial filtered peptides.\n",
    "def reportUniqueProteins(humanPeps, bacteriaPeps, results):\n",
    "    peptidePool = set()\n",
    "    peptidePool.update(humanPeps)\n",
    "    peptidePool.update(bacteriaPeps)\n",
    "    protsIDd = {} # key=protein ID, value=set of peptides that match this protein\n",
    "    pep2Prots = {} # key=peptide sequence, value=set of proteins that match this peptide\n",
    "    pepCounts = {} # key=peptide sequence, value=number of times identified across all samples\n",
    "    pepProbabilities = {} # key=peptide sequence, value=lowest spectral probability\n",
    "    for pep in peptidePool:\n",
    "        pep2Prots[pep] = set()\n",
    "        pepCounts[pep] = 0\n",
    "        pepProbabilities[pep] = 1000000000\n",
    "    for res in results:\n",
    "        with res.open(mode='r') as infile:\n",
    "            reader = csv.reader(infile, delimiter='\\t')\n",
    "            for row in reader:\n",
    "                protType = determineIDType(row)\n",
    "                if protType == 'first':\n",
    "                    continue\n",
    "                if not isSignificant(row):\n",
    "                    break\n",
    "                if (protType == 'human' and row[PEPTIDE] in humanPeps) or (protType == 'bacteria' and row[PEPTIDE] in bacteriaPeps):\n",
    "                    pepCounts[row[PEPTIDE]] += 1\n",
    "                    if pepProbabilities[row[PEPTIDE]] > float(row[SPEC_PROBABILITY]):\n",
    "                        pepProbabilities[row[PEPTIDE]] = float(row[SPEC_PROBABILITY])\n",
    "                    hits = getProteinHitList(row, protType)\n",
    "                    pep2Prots[row[PEPTIDE]].update(set(hits))\n",
    "                    for hit in hits:\n",
    "                        if not hit in protsIDd.keys():\n",
    "                            protsIDd[hit] = set()\n",
    "                        protsIDd[hit].add(row[PEPTIDE])\n",
    "\n",
    "    humanRealProts = set()\n",
    "    bacteriaRealProts = set()\n",
    "    peptidesCopy = peptidePool.copy()\n",
    "    for prot, pepSet in protsIDd.items():\n",
    "        validPeps = set()\n",
    "        for pep in pepSet:\n",
    "            if pep in peptidesCopy:\n",
    "                validPeps.add(pep)\n",
    "        if len(validPeps) > 1:\n",
    "            if prot.find('HUMAN') != -1:\n",
    "                humanRealProts.add(prot)\n",
    "            else:\n",
    "                bacteriaRealProts.add(prot)\n",
    "            for p in validPeps:\n",
    "                peptidesCopy.remove(p)\n",
    "    for pep, count in pepCounts.items():\n",
    "        if pep in peptidesCopy and count > 1:\n",
    "            realProt = pep2Prots[pep].pop()\n",
    "            if realProt.find('HUMAN') != -1:\n",
    "                humanRealProts.add(realProt)\n",
    "            else:\n",
    "                bacteriaRealProts.add(realProt)\n",
    "            peptidesCopy.remove(pep)\n",
    "    for pep, probability in pepProbabilities.items():\n",
    "        if pep in peptidesCopy and probability < 1e-15:\n",
    "            peptidesCopy.remove(pep)\n",
    "            realProt = pep2Prots[pep].pop()\n",
    "            if realProt.find('HUMAN') != -1:\n",
    "                humanRealProts.add(realProt)\n",
    "            else:\n",
    "                bacteriaRealProts.add(realProt)\n",
    "    print(f'Unique Human Proteins: {len(humanRealProts)}')\n",
    "    print(f'Unique Bacterial Proteins {len(bacteriaRealProts)}')"
   ]
  },
  {
   "cell_type": "code",
   "execution_count": 5,
   "metadata": {},
   "outputs": [],
   "source": [
    "humanPeps = getFilteredPeptides(results, 'human')\n",
    "bacteriaPeps = getFilteredPeptides(results, 'bacteria')"
   ]
  },
  {
   "cell_type": "code",
   "execution_count": 6,
   "metadata": {},
   "outputs": [
    {
     "name": "stdout",
     "output_type": "stream",
     "text": [
      "16S_Sample-Matched\n",
      "Unique Human Proteins: 1074\n",
      "Unique Bacterial Proteins 1257\n"
     ]
    }
   ],
   "source": [
    "# Determine how many human and bacterial proteins have 2 unique peptides identified, one peptide identified twice, or one peptide with spec < 1e-15\n",
    "print('16S_Sample-Matched')\n",
    "reportUniqueProteins(humanPeps, bacteriaPeps, results)"
   ]
  },
  {
   "cell_type": "code",
   "execution_count": 7,
   "metadata": {},
   "outputs": [],
   "source": [
    "# Unique proteins for 16S_Pooled\n",
    "comHumanPeps = getFilteredPeptides(comResults, 'human')\n",
    "comBacteriaPeps = getFilteredPeptides(comResults, 'bacteria')"
   ]
  },
  {
   "cell_type": "code",
   "execution_count": 8,
   "metadata": {},
   "outputs": [
    {
     "name": "stdout",
     "output_type": "stream",
     "text": [
      "16S_Pooled\n",
      "Unique Human Proteins: 798\n",
      "Unique Bacterial Proteins 1022\n"
     ]
    }
   ],
   "source": [
    "print('16S_Pooled')\n",
    "reportUniqueProteins(comHumanPeps, comBacteriaPeps, comResults)"
   ]
  },
  {
   "cell_type": "code",
   "execution_count": 9,
   "metadata": {},
   "outputs": [],
   "source": [
    "# Unique proteins for Shotgun_Pooled\n",
    "combHumanPeps = getFilteredPeptides(combResults, 'human')\n",
    "combBacteriaPeps = getFilteredPeptides(combResults, 'bacteria')"
   ]
  },
  {
   "cell_type": "code",
   "execution_count": 10,
   "metadata": {},
   "outputs": [
    {
     "name": "stdout",
     "output_type": "stream",
     "text": [
      "Shotgun_Pooled\n",
      "Unique Human Proteins: 820\n",
      "Unique Bacterial Proteins 1037\n"
     ]
    }
   ],
   "source": [
    "print('Shotgun_Pooled')\n",
    "reportUniqueProteins(combHumanPeps, combBacteriaPeps, combResults)"
   ]
  },
  {
   "cell_type": "code",
   "execution_count": 11,
   "metadata": {},
   "outputs": [],
   "source": [
    "# Unique proteins for Shotgun_Sample-Matched\n",
    "indHumanPeps = getFilteredPeptides(indResults, 'human')\n",
    "indBacteriaPeps = getFilteredPeptides(indResults, 'bacteria')"
   ]
  },
  {
   "cell_type": "code",
   "execution_count": 12,
   "metadata": {},
   "outputs": [
    {
     "name": "stdout",
     "output_type": "stream",
     "text": [
      "Shotgun_Sample-Matched\n",
      "Unique Human Proteins: 1182\n",
      "Unique Bacterial Proteins 942\n"
     ]
    }
   ],
   "source": [
    "print('Shotgun_Sample-Matched')\n",
    "reportUniqueProteins(indHumanPeps, indBacteriaPeps, indResults)"
   ]
  },
  {
   "cell_type": "code",
   "execution_count": 14,
   "metadata": {},
   "outputs": [],
   "source": [
    "# Unique proteins for Hybrid_Sample-Matched\n",
    "hybHumanPeps = getFilteredPeptides(hybResults, 'human')\n",
    "hybBacteriaPeps = getFilteredPeptides(hybResults, 'bacteria')"
   ]
  },
  {
   "cell_type": "code",
   "execution_count": 15,
   "metadata": {},
   "outputs": [
    {
     "name": "stdout",
     "output_type": "stream",
     "text": [
      "Hybrid_Sample-Matched\n",
      "Unique Human Proteins: 1068\n",
      "Unique Bacterial Proteins 1418\n"
     ]
    }
   ],
   "source": [
    "print('Hybrid_Sample-Matched')\n",
    "reportUniqueProteins(hybHumanPeps, hybBacteriaPeps, hybResults)"
   ]
  }
 ],
 "metadata": {
  "kernelspec": {
   "display_name": "Python 3",
   "language": "python",
   "name": "python3"
  },
  "language_info": {
   "codemirror_mode": {
    "name": "ipython",
    "version": 3
   },
   "file_extension": ".py",
   "mimetype": "text/x-python",
   "name": "python",
   "nbconvert_exporter": "python",
   "pygments_lexer": "ipython3",
   "version": "3.6.4"
  }
 },
 "nbformat": 4,
 "nbformat_minor": 4
}
