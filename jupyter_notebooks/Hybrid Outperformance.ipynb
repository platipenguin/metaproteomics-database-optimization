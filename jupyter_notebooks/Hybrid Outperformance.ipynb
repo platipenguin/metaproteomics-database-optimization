{
 "cells": [
  {
   "cell_type": "markdown",
   "metadata": {},
   "source": [
    "**3/31/21**\n",
    "\n",
    "The purpose of this notebook is to dig into the areas where the Hybrid_Sample-Matched databases outperform the 16S_Sample-Matched databases."
   ]
  },
  {
   "cell_type": "code",
   "execution_count": 1,
   "metadata": {},
   "outputs": [],
   "source": [
    "from elliot_utils import *\n",
    "from scipy import stats"
   ]
  },
  {
   "cell_type": "code",
   "execution_count": 2,
   "metadata": {},
   "outputs": [],
   "source": [
    "figPath = Path.cwd().joinpath('figures/analyzing_hybrid/')\n",
    "analysisPath = Path.cwd().joinpath('analysis_files/analyzing_hybrid/')"
   ]
  },
  {
   "cell_type": "code",
   "execution_count": 3,
   "metadata": {},
   "outputs": [],
   "source": [
    "tailoredResults = getOrderedFiles(Path.cwd().joinpath(TAILORED_RESULTS), '.tsv')\n",
    "individualResults = getOrderedFiles(Path.cwd().joinpath(SINGLE_RESULTS), '.tsv')\n",
    "hybridResults = getOrderedFiles(Path.cwd().joinpath(HYBRID_RESULTS), '.tsv')"
   ]
  },
  {
   "cell_type": "code",
   "execution_count": 4,
   "metadata": {},
   "outputs": [],
   "source": [
    "tAllowedHumanPeps = getFilteredPeptides(tailoredResults, 'human')\n",
    "iAllowedHumanPeps = getFilteredPeptides(individualResults, 'human')\n",
    "hAllowedHumanPeps = getFilteredPeptides(hybridResults, 'human')\n",
    "tAllowedBacteriaPeps = getFilteredPeptides(tailoredResults, 'bacteria')\n",
    "iAllowedBacteriaPeps = getFilteredPeptides(individualResults, 'bacteria')\n",
    "hAllowedBacteriaPeps = getFilteredPeptides(hybridResults, 'bacteria')"
   ]
  },
  {
   "cell_type": "code",
   "execution_count": 5,
   "metadata": {},
   "outputs": [],
   "source": [
    "# Returns a list with the number of statistically significant PSMs in the samples of the specified type.\n",
    "# Can specify a set of allowed peptides to filter\n",
    "def countSpectra(resultsList, lookFor, allowedPeps):\n",
    "    counts = []\n",
    "    for res in resultsList:\n",
    "        with res.open(mode='r') as infile:\n",
    "            reader = csv.reader(infile, delimiter='\\t')\n",
    "            count = 0\n",
    "            for row in reader:\n",
    "                protType = determineIDType(row)\n",
    "                if protType == 'first':\n",
    "                    continue\n",
    "                if not isSignificant(row):\n",
    "                    break\n",
    "                if protType == lookFor and row[PEPTIDE] in allowedPeps:\n",
    "                    count += 1\n",
    "        counts.append(count)\n",
    "    return counts"
   ]
  },
  {
   "cell_type": "code",
   "execution_count": 6,
   "metadata": {},
   "outputs": [],
   "source": [
    "tHumanCount = countSpectra(tailoredResults, 'human', allowedPeps=tAllowedHumanPeps)\n",
    "hHumanCount = countSpectra(hybridResults, 'human', allowedPeps=hAllowedHumanPeps)\n",
    "iHumanCount = countSpectra(individualResults, 'human', allowedPeps=iAllowedHumanPeps)\n",
    "tBacteriaCount = countSpectra(tailoredResults, 'bacteria', allowedPeps=tAllowedBacteriaPeps)\n",
    "hBacteriaCount = countSpectra(hybridResults, 'bacteria', allowedPeps=hAllowedBacteriaPeps)\n",
    "iBacteriaCount = countSpectra(individualResults, 'bacteria', allowedPeps=iAllowedBacteriaPeps)"
   ]
  },
  {
   "cell_type": "code",
   "execution_count": 7,
   "metadata": {},
   "outputs": [],
   "source": [
    "humanProportion = []\n",
    "bacteriaProportion = []\n",
    "dataLabels = []\n",
    "for i in range(len(tHumanCount)):\n",
    "    humanProportion.append(hHumanCount[i] / tHumanCount[i])\n",
    "    bacteriaProportion.append(hBacteriaCount[i] / tBacteriaCount[i])\n",
    "    dataLabels.append('Public_Tailored')\n",
    "    humanProportion.append(hHumanCount[i] / iHumanCount[i])\n",
    "    bacteriaProportion.append(hBacteriaCount[i]/ iBacteriaCount[i])\n",
    "    dataLabels.append('Shotgun_Single')"
   ]
  },
  {
   "cell_type": "code",
   "execution_count": 8,
   "metadata": {},
   "outputs": [],
   "source": [
    "proteinDataDir = Path('C:/Users/emlee/Documents/MSGFp/Sequences/Bacteria/AllNCBI_12-19/')"
   ]
  },
  {
   "cell_type": "code",
   "execution_count": 9,
   "metadata": {},
   "outputs": [],
   "source": [
    "# Get the number of genomes I have for each organism, collapsing all Gardnerellas into Gardnerella vaginalis\n",
    "genomeCounts = {'Gardnerella vaginalis':0} #key=species name, value=number of genomes\n",
    "for folder in proteinDataDir.iterdir():\n",
    "    speciesName = folder.name.replace('_', ' ')\n",
    "    genomeCount = 0\n",
    "    for f in proteinDataDir.joinpath(f'{folder.name}/').iterdir():\n",
    "        if f.suffix == '.fasta':\n",
    "            genomeCount += 1\n",
    "    if speciesName.find('Gardnerella') != -1:\n",
    "        genomeCounts['Gardnerella vaginalis'] += genomeCount\n",
    "    else:\n",
    "        genomeCounts[speciesName] = genomeCount"
   ]
  },
  {
   "cell_type": "code",
   "execution_count": 10,
   "metadata": {},
   "outputs": [],
   "source": [
    "abundanceDataFile = Path.cwd().joinpath('analysis_files/hybrid_vs_tailored/taxa_abundance.csv')\n",
    "abundanceData = pd.read_csv(abundanceDataFile)"
   ]
  },
  {
   "cell_type": "code",
   "execution_count": 56,
   "metadata": {},
   "outputs": [],
   "source": [
    "# Verify I haven't misspelled any species names by printing missed species\n",
    "# Species printed should have no available genomes\n",
    "#for species in abundanceData['taxa']:\n",
    "#    if not species in genomeCounts.keys():\n",
    "#        print(species)\n",
    "# Confirmed. Don't need to run this code again"
   ]
  },
  {
   "cell_type": "code",
   "execution_count": 185,
   "metadata": {},
   "outputs": [],
   "source": [
    "# Calculate depth for each sample\n",
    "sampleDepth = []\n",
    "for sample in SAMPLE_NAMES:\n",
    "    sampleData = abundanceData.loc[abundanceData['sample'] == int(sample)]\n",
    "    vals = []\n",
    "    for index, row in sampleData.iterrows():\n",
    "        ra = row['abundance'] / 100\n",
    "        if row['taxa'] in genomeCounts.keys():\n",
    "            vals.append(math.log(1 + genomeCounts[row['taxa']]) * ra)\n",
    "        else:\n",
    "            vals.append(0)\n",
    "    sampleDepth.append(sum(vals))"
   ]
  },
  {
   "cell_type": "code",
   "execution_count": 186,
   "metadata": {},
   "outputs": [],
   "source": [
    "hVsTProportion = []\n",
    "for i in range(len(hBacteriaCount)):\n",
    "    hVsTProportion.append(tBacteriaCount[i] / hBacteriaCount[i])"
   ]
  },
  {
   "cell_type": "code",
   "execution_count": 187,
   "metadata": {},
   "outputs": [
    {
     "data": {
      "image/png": "[encoded data removed]",
      "text/plain": [
       "<Figure size 432x360 with 1 Axes>"
      ]
     },
     "metadata": {
      "needs_background": "light"
     },
     "output_type": "display_data"
    }
   ],
   "source": [
    "setPlt(size=(6, 5), xlim=(1, 5), ylim=(0.6, 1.1))\n",
    "proportionVSDepthDF = pd.DataFrame({'Database Depth':sampleDepth, 'Proportion 16S/Hybrid Bacterial PSMs':hVsTProportion})\n",
    "depthGraph = sns.regplot(x='Database Depth', y='Proportion 16S/Hybrid Bacterial PSMs', data=proportionVSDepthDF, ci=1)\n",
    "saveFig(depthGraph, figPath.joinpath('depth_correlation.png'))"
   ]
  },
  {
   "cell_type": "code",
   "execution_count": 188,
   "metadata": {},
   "outputs": [
    {
     "data": {
      "text/plain": [
       "SpearmanrResult(correlation=0.6704433497536945, pvalue=6.907887601184056e-05)"
      ]
     },
     "execution_count": 188,
     "metadata": {},
     "output_type": "execute_result"
    }
   ],
   "source": [
    "# Test whether there's a statistically significant association between Sample Depth and Proportion of Tailored:Hybrid bacterial PSMs\n",
    "stats.spearmanr(hVsTProportion, sampleDepth)"
   ]
  },
  {
   "cell_type": "markdown",
   "metadata": {},
   "source": [
    "So that's good, I find a statistically significant association between Sample Depth and the relative performance of the 16S_Sample-Matched and Hybrid databases. I also plugged those values into excel to get the equation of the regression line, which gave **y = 0.0904x + 0.6585**. When the proportion = 1, the 16S_Sample-Matched and Hybrid databases have equal performance, so anything below that would mean there's value in using a database that includes metagenomic sequencing. According to that regression line then, we'd expect the proportion to equal 1 when Sample Depth equals 3.778. So, when Sample Depth < 3.778, there's a benefit in including metagenomic sequencing. When Sample Depth > 3.778, the 16S_Sample-Matched database performs fine. From that, we can also determine that we can also determine you would need about 47 genomes for your bugs to cross the point where metagenomic sequencing is no longer necessary."
   ]
  },
  {
   "cell_type": "code",
   "execution_count": null,
   "metadata": {},
   "outputs": [],
   "source": [
    "# Test some alternate methods of calculating database depth\n",
    "# First, calculate the number of unique tryptic peptides "
   ]
  },
  {
   "cell_type": "code",
   "execution_count": 11,
   "metadata": {},
   "outputs": [],
   "source": [
    "# Takes a deduplicated FASTA file of bacterial proteins\n",
    "# Returns the number of tryptic peptides with length ≥6 amino acids (Swaney, Wenger, & Coon [2010]) generated by processing all those proteins\n",
    "def calcTrypticPeptides(fastaFile):\n",
    "    trypticPeptides = set()\n",
    "    with open(fastaFile, 'r') as infile:\n",
    "        rawText = infile.read()\n",
    "        dataList = rawText.split('\\n>')\n",
    "        dataList[0] = dataList[0][1:]\n",
    "        del rawText\n",
    "        for sequence in dataList:\n",
    "            protein = Protein(sequence)\n",
    "            seq = protein.sequence\n",
    "            trypticList = []\n",
    "            for i in range(len(seq)):\n",
    "                trypticList.append(seq[i])\n",
    "                if i + 1 == len(seq):\n",
    "                    if len(trypticList) > 5:\n",
    "                        trypticPeptides.add(''.join(trypticList))\n",
    "                    trypticList = []\n",
    "                    continue\n",
    "                if (seq[i] == 'K' or seq[i] == 'R') and seq[i + 1] != 'P':\n",
    "                    if len(trypticList) > 5:\n",
    "                        trypticPeptides.add(''.join(trypticList))\n",
    "                    trypticList = []\n",
    "    return len(trypticPeptides)"
   ]
  },
  {
   "cell_type": "code",
   "execution_count": 50,
   "metadata": {},
   "outputs": [],
   "source": [
    "peptideDataDir = Path.cwd().joinpath('../PublicSequences/Combined_AllNCBI_12-21/')"
   ]
  },
  {
   "cell_type": "code",
   "execution_count": 14,
   "metadata": {},
   "outputs": [],
   "source": [
    "# Get the number of unique tryptic peptides I have for each organism, collapsing all Gardnerellas into G. vaginalis\n",
    "#trypticCounts = {'Gardnerella vaginalis':0} #key=species name, value=number of tryptic peptides\n",
    "#for file in peptideDataDir.iterdir():\n",
    "#    if not file.suffix == '.fasta':\n",
    "#        continue\n",
    "#    speciesName = file.name.replace('_', ' ')\n",
    "#    if speciesName.find('Gardnerella') != -1:\n",
    "#        trypticCounts['Gardnerella vaginalis'] += calcTrypticPeptides(file)\n",
    "#    else:\n",
    "#        trypticCounts[speciesName] = calcTrypticPeptides(file)"
   ]
  },
  {
   "cell_type": "code",
   "execution_count": 13,
   "metadata": {},
   "outputs": [],
   "source": [
    "trypticCountsFile = analysisPath.joinpath('species_tryptic_peptides.csv')"
   ]
  },
  {
   "cell_type": "code",
   "execution_count": 14,
   "metadata": {},
   "outputs": [],
   "source": [
    "# It took a while to get the number of tryptic peptides for all species, so I'll write that out to a csv file to make it easier to access\n",
    "#with trypticCountsFile.open(mode='w', newline='') as outfile:\n",
    "#    writer = csv.writer(outfile)\n",
    "#    for s, count in trypticCounts.items():\n",
    "#        species = s.replace('.fasta', '')\n",
    "#        writer.writerow([species, str(count)])"
   ]
  },
  {
   "cell_type": "code",
   "execution_count": 15,
   "metadata": {},
   "outputs": [],
   "source": [
    "trypticCounts = {} #key=species name, value=number of tryptic peptides\n",
    "with trypticCountsFile.open(mode='r') as infile:\n",
    "    reader = csv.reader(infile)\n",
    "    for row in reader:\n",
    "        species = row[0]\n",
    "        count = int(row[1])\n",
    "        if species != '':\n",
    "            trypticCounts[species] = count"
   ]
  },
  {
   "cell_type": "code",
   "execution_count": 35,
   "metadata": {},
   "outputs": [],
   "source": [
    "# Calculate the proportion of PSMs for the hybrid versus the 16S_Sample-matched databases\n",
    "TvsHProportion = []\n",
    "for i in range(len(hBacteriaCount)):\n",
    "    TvsHProportion.append(tBacteriaCount[i] / hBacteriaCount[i])"
   ]
  },
  {
   "cell_type": "code",
   "execution_count": 77,
   "metadata": {},
   "outputs": [],
   "source": [
    "# Calculate sample depth using the untransformed number of tryptic peptides we have for each organism\n",
    "sampleDepth = []\n",
    "for sample in SAMPLE_NAMES:\n",
    "    sampleData = abundanceData.loc[abundanceData['sample'] == int(sample)]\n",
    "    vals = []\n",
    "    for index, row in sampleData.iterrows():\n",
    "        ra = row['abundance'] / 100\n",
    "        if row['taxa'] in trypticCounts.keys():\n",
    "            vals.append(trypticCounts[row['taxa']] * ra)\n",
    "        else:\n",
    "            vals.append(0)\n",
    "    sampleDepth.append(sum(vals))"
   ]
  },
  {
   "cell_type": "code",
   "execution_count": 78,
   "metadata": {},
   "outputs": [
    {
     "data": {
      "image/png": "[encoded data removed]",
      "text/plain": [
       "<Figure size 432x360 with 1 Axes>"
      ]
     },
     "metadata": {
      "needs_background": "light"
     },
     "output_type": "display_data"
    }
   ],
   "source": [
    "setPlt(size=(6, 5), ylim=(0.6, 1.1))\n",
    "proportionVSDepthDF = pd.DataFrame({'Database Depth':sampleDepth, 'Proportion 16S/Hybrid Bacterial PSMs':TvsHProportion})\n",
    "depthGraph = sns.regplot(x='Database Depth', y='Proportion 16S/Hybrid Bacterial PSMs', data=proportionVSDepthDF, ci=1)\n",
    "saveFig(depthGraph, figPath.joinpath('depth2_correlation.png'))"
   ]
  },
  {
   "cell_type": "code",
   "execution_count": 80,
   "metadata": {},
   "outputs": [
    {
     "data": {
      "text/plain": [
       "SpearmanrResult(correlation=-0.2009852216748768, pvalue=0.2958172885690088)"
      ]
     },
     "execution_count": 80,
     "metadata": {},
     "output_type": "execute_result"
    }
   ],
   "source": [
    "# Test whether there's a statistically significant association between tryptic peptide Sample Depth and Proportion of Tailored:Hybrid bacterial PSMs\n",
    "stats.spearmanr(TvsHProportion, sampleDepth)"
   ]
  },
  {
   "cell_type": "code",
   "execution_count": 45,
   "metadata": {},
   "outputs": [],
   "source": [
    "# Calculate sample depth using the natural log of tryptic peptides we have for each organism\n",
    "sampleDepth = []\n",
    "for sample in SAMPLE_NAMES:\n",
    "    sampleData = abundanceData.loc[abundanceData['sample'] == int(sample)]\n",
    "    vals = []\n",
    "    for index, row in sampleData.iterrows():\n",
    "        ra = row['abundance'] / 100\n",
    "        if row['taxa'] in trypticCounts.keys():\n",
    "            vals.append(math.log(trypticCounts[row['taxa']]) * ra)\n",
    "        else:\n",
    "            vals.append(0)\n",
    "    sampleDepth.append(sum(vals))"
   ]
  },
  {
   "cell_type": "code",
   "execution_count": 47,
   "metadata": {},
   "outputs": [
    {
     "data": {
      "image/png": "[encoded data removed]",
      "text/plain": [
       "<Figure size 432x360 with 1 Axes>"
      ]
     },
     "metadata": {
      "needs_background": "light"
     },
     "output_type": "display_data"
    }
   ],
   "source": [
    "setPlt(size=(6, 5), ylim=(0.6, 1.1))\n",
    "proportionVSDepthDF = pd.DataFrame({'Weighted Average Bacterial Peptides in 16S Database':sampleDepth, 'Proportion 16S/Hybrid Bacterial PSMs':TvsHProportion, 'BV':BV_STATUS})\n",
    "depthGraph = sns.regplot(x='Weighted Average Bacterial Peptides in 16S Database', y='Proportion 16S/Hybrid Bacterial PSMs', ci=1, data=proportionVSDepthDF)\n",
    "saveFig(depthGraph, figPath.joinpath('depth3_correlation.png'))"
   ]
  },
  {
   "cell_type": "code",
   "execution_count": 48,
   "metadata": {},
   "outputs": [
    {
     "data": {
      "text/plain": [
       "SpearmanrResult(correlation=0.41527093596059106, pvalue=0.025078553027092974)"
      ]
     },
     "execution_count": 48,
     "metadata": {},
     "output_type": "execute_result"
    }
   ],
   "source": [
    "# Test whether there's a statistically significant association between tryptic peptide Sample Depth and Proportion of Tailored:Hybrid bacterial PSMs\n",
    "stats.spearmanr(TvsHProportion, sampleDepth)"
   ]
  },
  {
   "cell_type": "code",
   "execution_count": 137,
   "metadata": {},
   "outputs": [],
   "source": [
    "# Calculate sample depth using the natural log of tryptic peptides we have for each organism, divided by the number of organisms in each sample\n",
    "sampleDepth = []\n",
    "for sample in SAMPLE_NAMES:\n",
    "    sampleData = abundanceData.loc[abundanceData['sample'] == int(sample)]\n",
    "    vals = []\n",
    "    for index, row in sampleData.iterrows():\n",
    "        ra = row['abundance'] / 100\n",
    "        if row['taxa'] in trypticCounts.keys():\n",
    "            vals.append(trypticCounts[row['taxa']] * ra)\n",
    "        else:\n",
    "            vals.append(0)\n",
    "    sampleDepth.append(math.log(sum(vals) / len(vals)))"
   ]
  },
  {
   "cell_type": "code",
   "execution_count": 138,
   "metadata": {},
   "outputs": [
    {
     "data": {
      "image/png": "[encoded data removed]",
      "text/plain": [
       "<Figure size 432x288 with 1 Axes>"
      ]
     },
     "metadata": {
      "needs_background": "light"
     },
     "output_type": "display_data"
    }
   ],
   "source": [
    "#setPlt(size=(6, 5), ylim=(0.6, 1.1))\n",
    "proportionVSDepthDF = pd.DataFrame({'Database Depth':sampleDepth, 'Proportion 16S/Hybrid Bacterial PSMs':TvsHProportion, 'BV':BV_STATUS})\n",
    "depthGraph = sns.regplot(x='Database Depth', y='Proportion 16S/Hybrid Bacterial PSMs', data=proportionVSDepthDF, ci=1)\n",
    "#saveFig(depthGraph, figPath.joinpath('depth3_correlation.png'))"
   ]
  },
  {
   "cell_type": "code",
   "execution_count": 132,
   "metadata": {},
   "outputs": [
    {
     "data": {
      "text/plain": [
       "SpearmanrResult(correlation=0.4679802955665023, pvalue=0.010463871566637343)"
      ]
     },
     "execution_count": 132,
     "metadata": {},
     "output_type": "execute_result"
    }
   ],
   "source": [
    "# Test whether there's a statistically significant association between tryptic peptide Sample Depth and Proportion of Tailored:Hybrid bacterial PSMs\n",
    "stats.spearmanr(TvsHProportion, sampleDepth)"
   ]
  },
  {
   "cell_type": "code",
   "execution_count": 122,
   "metadata": {},
   "outputs": [],
   "source": [
    "# Calculate sample depth using the natural log of tryptic peptides we have for each organism, and dividing by the shannon diversity\n",
    "sampleDepth = []\n",
    "for sample in SAMPLE_NAMES:\n",
    "    sampleData = abundanceData.loc[abundanceData['sample'] == int(sample)]\n",
    "    vals = []\n",
    "    shannon = []\n",
    "    for index, row in sampleData.iterrows():\n",
    "        ra = row['abundance'] / 100\n",
    "        if row['taxa'] in trypticCounts.keys():\n",
    "            vals.append(math.log(1 + trypticCounts[row['taxa']]) * ra)\n",
    "            shannon.append(ra * math.log(ra))\n",
    "        else:\n",
    "            vals.append(0)\n",
    "    sampleDepth.append(sum(vals) / (1 + (-1 * (sum(shannon)))))"
   ]
  },
  {
   "cell_type": "code",
   "execution_count": 123,
   "metadata": {},
   "outputs": [
    {
     "data": {
      "image/png": "[encoded data removed]",
      "text/plain": [
       "<Figure size 432x360 with 1 Axes>"
      ]
     },
     "metadata": {
      "needs_background": "light"
     },
     "output_type": "display_data"
    }
   ],
   "source": [
    "setPlt(size=(6, 5), ylim=(0.6, 1.1))\n",
    "proportionVSDepthDF = pd.DataFrame({'Database Depth':sampleDepth, 'Proportion 16S/Hybrid Bacterial PSMs':TvsHProportion, 'BV':BV_STATUS})\n",
    "depthGraph = sns.regplot(x='Database Depth', y='Proportion 16S/Hybrid Bacterial PSMs', data=proportionVSDepthDF, ci=1)\n",
    "saveFig(depthGraph, figPath.joinpath('depth3_correlation.png'))"
   ]
  },
  {
   "cell_type": "code",
   "execution_count": 124,
   "metadata": {},
   "outputs": [
    {
     "data": {
      "text/plain": [
       "SpearmanrResult(correlation=0.6364532019704431, pvalue=0.00020600369062410105)"
      ]
     },
     "execution_count": 124,
     "metadata": {},
     "output_type": "execute_result"
    }
   ],
   "source": [
    "# Test whether there's a statistically significant association between tryptic peptide Sample Depth and Proportion of Tailored:Hybrid bacterial PSMs\n",
    "stats.spearmanr(TvsHProportion, sampleDepth)"
   ]
  },
  {
   "cell_type": "markdown",
   "metadata": {},
   "source": [
    "Getting really freaky with it now - I'm going to try to estimate panproteome coverage by making a curve to see how many new proteins are added (looking at amino acid sequence) by sequentially adding the next genome which adds the most new proteins."
   ]
  }
 ],
 "metadata": {
  "kernelspec": {
   "display_name": "Python 3",
   "language": "python",
   "name": "python3"
  },
  "language_info": {
   "codemirror_mode": {
    "name": "ipython",
    "version": 3
   },
   "file_extension": ".py",
   "mimetype": "text/x-python",
   "name": "python",
   "nbconvert_exporter": "python",
   "pygments_lexer": "ipython3",
   "version": "3.6.4"
  }
 },
 "nbformat": 4,
 "nbformat_minor": 4
}
