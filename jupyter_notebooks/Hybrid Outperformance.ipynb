{
 "cells": [
  {
   "cell_type": "markdown",
   "metadata": {},
   "source": [
    "**3/31/21**\n",
    "\n",
    "The purpose of this notebook is to dig into the areas where the Hybrid_Sample-Matched databases outperform the 16S_Sample-Matched databases."
   ]
  },
  {
   "cell_type": "code",
   "execution_count": 1,
   "metadata": {},
   "outputs": [],
   "source": [
    "from elliot_utils import *"
   ]
  },
  {
   "cell_type": "code",
   "execution_count": 2,
   "metadata": {},
   "outputs": [],
   "source": [
    "figPath = Path.cwd().joinpath('figures/analyzing_hybrid/')\n",
    "analysisPath = Path.cwd().joinpath('analysis_files/analyzing_hybrid/')"
   ]
  },
  {
   "cell_type": "code",
   "execution_count": 3,
   "metadata": {},
   "outputs": [],
   "source": [
    "tailoredResults = getOrderedFiles(Path.cwd().joinpath(TAILORED_RESULTS), '.tsv')\n",
    "individualResults = getOrderedFiles(Path.cwd().joinpath(SINGLE_RESULTS), '.tsv')\n",
    "hybridResults = getOrderedFiles(Path.cwd().joinpath(HYBRID_RESULTS), '.tsv')"
   ]
  },
  {
   "cell_type": "code",
   "execution_count": 4,
   "metadata": {},
   "outputs": [],
   "source": [
    "tAllowedHumanPeps = getFilteredPeptides(tailoredResults, 'human')\n",
    "iAllowedHumanPeps = getFilteredPeptides(individualResults, 'human')\n",
    "hAllowedHumanPeps = getFilteredPeptides(hybridResults, 'human')\n",
    "tAllowedBacteriaPeps = getFilteredPeptides(tailoredResults, 'bacteria')\n",
    "iAllowedBacteriaPeps = getFilteredPeptides(individualResults, 'bacteria')\n",
    "hAllowedBacteriaPeps = getFilteredPeptides(hybridResults, 'bacteria')"
   ]
  },
  {
   "cell_type": "code",
   "execution_count": 5,
   "metadata": {},
   "outputs": [],
   "source": [
    "# Returns a list with the number of statistically significant PSMs in the samples of the specified type.\n",
    "# Can specify a set of allowed peptides to filter\n",
    "def countSpectra(resultsList, lookFor, allowedPeps):\n",
    "    counts = []\n",
    "    for res in resultsList:\n",
    "        with res.open(mode='r') as infile:\n",
    "            reader = csv.reader(infile, delimiter='\\t')\n",
    "            count = 0\n",
    "            for row in reader:\n",
    "                protType = determineIDType(row)\n",
    "                if protType == 'first':\n",
    "                    continue\n",
    "                if not isSignificant(row):\n",
    "                    break\n",
    "                if protType == lookFor and row[PEPTIDE] in allowedPeps:\n",
    "                    count += 1\n",
    "        counts.append(count)\n",
    "    return counts"
   ]
  },
  {
   "cell_type": "code",
   "execution_count": 6,
   "metadata": {},
   "outputs": [],
   "source": [
    "tHumanCount = countSpectra(tailoredResults, 'human', allowedPeps=tAllowedHumanPeps)\n",
    "hHumanCount = countSpectra(hybridResults, 'human', allowedPeps=hAllowedHumanPeps)\n",
    "iHumanCount = countSpectra(individualResults, 'human', allowedPeps=iAllowedHumanPeps)\n",
    "tBacteriaCount = countSpectra(tailoredResults, 'bacteria', allowedPeps=tAllowedBacteriaPeps)\n",
    "hBacteriaCount = countSpectra(hybridResults, 'bacteria', allowedPeps=hAllowedBacteriaPeps)\n",
    "iBacteriaCount = countSpectra(individualResults, 'bacteria', allowedPeps=iAllowedBacteriaPeps)"
   ]
  },
  {
   "cell_type": "code",
   "execution_count": 7,
   "metadata": {},
   "outputs": [],
   "source": [
    "humanProportion = []\n",
    "bacteriaProportion = []\n",
    "dataLabels = []\n",
    "for i in range(len(tHumanCount)):\n",
    "    humanProportion.append(hHumanCount[i] / tHumanCount[i])\n",
    "    bacteriaProportion.append(hBacteriaCount[i] / tBacteriaCount[i])\n",
    "    dataLabels.append('Public_Tailored')\n",
    "    humanProportion.append(hHumanCount[i] / iHumanCount[i])\n",
    "    bacteriaProportion.append(hBacteriaCount[i]/ iBacteriaCount[i])\n",
    "    dataLabels.append('Shotgun_Single')"
   ]
  },
  {
   "cell_type": "code",
   "execution_count": 8,
   "metadata": {},
   "outputs": [],
   "source": [
    "proteinDataDir = Path('C:/Users/emlee/Documents/MSGFp/Sequences/Bacteria/AllNCBI_12-19/')"
   ]
  },
  {
   "cell_type": "code",
   "execution_count": 9,
   "metadata": {},
   "outputs": [],
   "source": [
    "# Get the number of genomes I have for each organism, collapsing all Gardnerellas into Gardnerella vaginalis\n",
    "genomeCounts = {'Gardnerella vaginalis':0} #key=species name, value=number of genomes\n",
    "for folder in proteinDataDir.iterdir():\n",
    "    speciesName = folder.name.replace('_', ' ')\n",
    "    genomeCount = 0\n",
    "    for f in proteinDataDir.joinpath(f'{folder.name}/').iterdir():\n",
    "        if f.suffix == '.fasta':\n",
    "            genomeCount += 1\n",
    "    if speciesName.find('Gardnerella') != -1:\n",
    "        genomeCounts['Gardnerella vaginalis'] += genomeCount\n",
    "    else:\n",
    "        genomeCounts[speciesName] = genomeCount"
   ]
  },
  {
   "cell_type": "code",
   "execution_count": 10,
   "metadata": {},
   "outputs": [],
   "source": [
    "abundanceDataFile = Path.cwd().joinpath('analysis_files/hybrid_vs_tailored/taxa_abundance.csv')\n",
    "abundanceData = pd.read_csv(abundanceDataFile)"
   ]
  },
  {
   "cell_type": "code",
   "execution_count": 11,
   "metadata": {},
   "outputs": [],
   "source": [
    "# Verify I haven't misspelled any species names by printing missed species\n",
    "# Species printed should have no available genomes\n",
    "#for species in abundanceData['taxa']:\n",
    "#    if not species in genomeCounts.keys():\n",
    "#        print(species)\n",
    "# Confirmed. Don't need to run this code again"
   ]
  },
  {
   "cell_type": "code",
   "execution_count": 12,
   "metadata": {},
   "outputs": [],
   "source": [
    "# Calculate depth for each sample\n",
    "sampleDepth = []\n",
    "for sample in SAMPLE_NAMES:\n",
    "    sampleData = abundanceData.loc[abundanceData['sample'] == int(sample)]\n",
    "    vals = []\n",
    "    for index, row in sampleData.iterrows():\n",
    "        ra = row['abundance'] / 100\n",
    "        if row['taxa'] in genomeCounts.keys():\n",
    "            vals.append(math.log(1 + genomeCounts[row['taxa']]) * ra)\n",
    "        else:\n",
    "            vals.append(0)\n",
    "    sampleDepth.append(sum(vals))"
   ]
  },
  {
   "cell_type": "code",
   "execution_count": 13,
   "metadata": {},
   "outputs": [],
   "source": [
    "hVsTProportion = []\n",
    "for i in range(len(hBacteriaCount)):\n",
    "    hVsTProportion.append(tBacteriaCount[i] / hBacteriaCount[i])"
   ]
  },
  {
   "cell_type": "code",
   "execution_count": 14,
   "metadata": {},
   "outputs": [
    {
     "data": {
      "image/png": "[encoded data removed]",
      "text/plain": [
       "<Figure size 432x360 with 1 Axes>"
      ]
     },
     "metadata": {
      "needs_background": "light"
     },
     "output_type": "display_data"
    }
   ],
   "source": [
    "setPlt(size=(6, 5), xlim=(1, 5), ylim=(0.6, 1.1))\n",
    "proportionVSDepthDF = pd.DataFrame({'Database Depth':sampleDepth, 'Proportion 16S/Hybrid Bacterial PSMs':hVsTProportion})\n",
    "depthGraph = sns.regplot(x='Database Depth', y='Proportion 16S/Hybrid Bacterial PSMs', data=proportionVSDepthDF, ci=1)\n",
    "saveFig(depthGraph, figPath.joinpath('depth_correlation.png'))"
   ]
  },
  {
   "cell_type": "code",
   "execution_count": 15,
   "metadata": {},
   "outputs": [],
   "source": [
    "import scipy"
   ]
  },
  {
   "cell_type": "code",
   "execution_count": 16,
   "metadata": {},
   "outputs": [
    {
     "data": {
      "text/plain": [
       "SpearmanrResult(correlation=0.6704433497536945, pvalue=6.907887601184056e-05)"
      ]
     },
     "execution_count": 16,
     "metadata": {},
     "output_type": "execute_result"
    }
   ],
   "source": [
    "# Test whether there's a statistically significant association between Sample Depth and Proportion of Tailored:Hybrid bacterial PSMs\n",
    "scipy.stats.spearmanr(hVsTProportion, sampleDepth)"
   ]
  },
  {
   "cell_type": "markdown",
   "metadata": {},
   "source": [
    "So that's good, I find a statistically significant association between Sample Depth and the relative performance of the 16S_Sample-Matched and Hybrid databases. I also plugged those values into excel to get the equation of the regression line, which gave **y = 0.0904x + 0.6585**. When the proportion = 1, the 16S_Sample-Matched and Hybrid databases have equal performance, so anything below that would mean there's value in using a database that includes metagenomic sequencing. According to that regression line then, we'd expect the proportion to equal 1 when Sample Depth equals 3.778. So, when Sample Depth < 3.778, there's a benefit in including metagenomic sequencing. When Sample Depth > 3.778, the 16S_Sample-Matched database performs fine. From that, we can also determine that we can also determine you would need about 47 genomes for your bugs to cross the point where metagenomic sequencing is no longer necessary."
   ]
  }
 ],
 "metadata": {
  "kernelspec": {
   "display_name": "Python 3",
   "language": "python",
   "name": "python3"
  },
  "language_info": {
   "codemirror_mode": {
    "name": "ipython",
    "version": 3
   },
   "file_extension": ".py",
   "mimetype": "text/x-python",
   "name": "python",
   "nbconvert_exporter": "python",
   "pygments_lexer": "ipython3",
   "version": "3.6.4"
  }
 },
 "nbformat": 4,
 "nbformat_minor": 4
}
