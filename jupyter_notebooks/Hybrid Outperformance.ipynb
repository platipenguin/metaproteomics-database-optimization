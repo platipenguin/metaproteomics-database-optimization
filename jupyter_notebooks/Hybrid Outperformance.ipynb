{
 "cells": [
  {
   "cell_type": "markdown",
   "metadata": {},
   "source": [
    "**3/31/21**\n",
    "\n",
    "The purpose of this notebook is to dig into the areas where the Hybrid_Sample-Matched databases outperform the 16S_Sample-Matched databases."
   ]
  },
  {
   "cell_type": "code",
   "execution_count": 1,
   "metadata": {},
   "outputs": [],
   "source": [
    "from elliot_utils import *\n",
    "from scipy import stats"
   ]
  },
  {
   "cell_type": "code",
   "execution_count": 2,
   "metadata": {},
   "outputs": [],
   "source": [
    "figPath = Path.cwd().joinpath('figures/analyzing_hybrid/')\n",
    "analysisPath = Path.cwd().joinpath('analysis_files/analyzing_hybrid/')"
   ]
  },
  {
   "cell_type": "code",
   "execution_count": 3,
   "metadata": {},
   "outputs": [],
   "source": [
    "tailoredResults = getOrderedFiles(Path.cwd().joinpath(TAILORED_RESULTS), '.tsv')\n",
    "individualResults = getOrderedFiles(Path.cwd().joinpath(SINGLE_RESULTS), '.tsv')\n",
    "hybridResults = getOrderedFiles(Path.cwd().joinpath(HYBRID_RESULTS), '.tsv')"
   ]
  },
  {
   "cell_type": "code",
   "execution_count": 4,
   "metadata": {},
   "outputs": [],
   "source": [
    "tAllowedHumanPeps = getFilteredPeptides(tailoredResults, 'human')\n",
    "iAllowedHumanPeps = getFilteredPeptides(individualResults, 'human')\n",
    "hAllowedHumanPeps = getFilteredPeptides(hybridResults, 'human')\n",
    "tAllowedBacteriaPeps = getFilteredPeptides(tailoredResults, 'bacteria')\n",
    "iAllowedBacteriaPeps = getFilteredPeptides(individualResults, 'bacteria')\n",
    "hAllowedBacteriaPeps = getFilteredPeptides(hybridResults, 'bacteria')"
   ]
  },
  {
   "cell_type": "code",
   "execution_count": 5,
   "metadata": {},
   "outputs": [],
   "source": [
    "# Returns a list with the number of statistically significant PSMs in the samples of the specified type.\n",
    "# Can specify a set of allowed peptides to filter\n",
    "def countSpectra(resultsList, lookFor, allowedPeps):\n",
    "    counts = []\n",
    "    for res in resultsList:\n",
    "        with res.open(mode='r') as infile:\n",
    "            reader = csv.reader(infile, delimiter='\\t')\n",
    "            count = 0\n",
    "            for row in reader:\n",
    "                protType = determineIDType(row)\n",
    "                if protType == 'first':\n",
    "                    continue\n",
    "                if not isSignificant(row):\n",
    "                    break\n",
    "                if protType == lookFor and row[PEPTIDE] in allowedPeps:\n",
    "                    count += 1\n",
    "        counts.append(count)\n",
    "    return counts"
   ]
  },
  {
   "cell_type": "code",
   "execution_count": 6,
   "metadata": {},
   "outputs": [],
   "source": [
    "tHumanCount = countSpectra(tailoredResults, 'human', allowedPeps=tAllowedHumanPeps)\n",
    "hHumanCount = countSpectra(hybridResults, 'human', allowedPeps=hAllowedHumanPeps)\n",
    "iHumanCount = countSpectra(individualResults, 'human', allowedPeps=iAllowedHumanPeps)\n",
    "tBacteriaCount = countSpectra(tailoredResults, 'bacteria', allowedPeps=tAllowedBacteriaPeps)\n",
    "hBacteriaCount = countSpectra(hybridResults, 'bacteria', allowedPeps=hAllowedBacteriaPeps)\n",
    "iBacteriaCount = countSpectra(individualResults, 'bacteria', allowedPeps=iAllowedBacteriaPeps)"
   ]
  },
  {
   "cell_type": "code",
   "execution_count": 7,
   "metadata": {},
   "outputs": [],
   "source": [
    "humanProportion = []\n",
    "bacteriaProportion = []\n",
    "dataLabels = []\n",
    "for i in range(len(tHumanCount)):\n",
    "    humanProportion.append(hHumanCount[i] / tHumanCount[i])\n",
    "    bacteriaProportion.append(hBacteriaCount[i] / tBacteriaCount[i])\n",
    "    dataLabels.append('Public_Tailored')\n",
    "    humanProportion.append(hHumanCount[i] / iHumanCount[i])\n",
    "    bacteriaProportion.append(hBacteriaCount[i]/ iBacteriaCount[i])\n",
    "    dataLabels.append('Shotgun_Single')"
   ]
  },
  {
   "cell_type": "code",
   "execution_count": 8,
   "metadata": {},
   "outputs": [],
   "source": [
    "proteinDataDir = Path('C:/Users/emlee/Documents/MSGFp/Sequences/Bacteria/AllNCBI_12-19/')"
   ]
  },
  {
   "cell_type": "code",
   "execution_count": 9,
   "metadata": {},
   "outputs": [],
   "source": [
    "# Get the number of genomes I have for each organism, collapsing all Gardnerellas into Gardnerella vaginalis\n",
    "genomeCounts = {'Gardnerella vaginalis':0} #key=species name, value=number of genomes\n",
    "for folder in proteinDataDir.iterdir():\n",
    "    speciesName = folder.name.replace('_', ' ')\n",
    "    genomeCount = 0\n",
    "    for f in proteinDataDir.joinpath(f'{folder.name}/').iterdir():\n",
    "        if f.suffix == '.fasta':\n",
    "            genomeCount += 1\n",
    "    if speciesName.find('Gardnerella') != -1:\n",
    "        genomeCounts['Gardnerella vaginalis'] += genomeCount\n",
    "    else:\n",
    "        genomeCounts[speciesName] = genomeCount"
   ]
  },
  {
   "cell_type": "code",
   "execution_count": 10,
   "metadata": {},
   "outputs": [],
   "source": [
    "abundanceDataFile = Path.cwd().joinpath('analysis_files/hybrid_vs_tailored/taxa_abundance.csv')\n",
    "abundanceData = pd.read_csv(abundanceDataFile)"
   ]
  },
  {
   "cell_type": "code",
   "execution_count": 56,
   "metadata": {},
   "outputs": [],
   "source": [
    "# Verify I haven't misspelled any species names by printing missed species\n",
    "# Species printed should have no available genomes\n",
    "#for species in abundanceData['taxa']:\n",
    "#    if not species in genomeCounts.keys():\n",
    "#        print(species)\n",
    "# Confirmed. Don't need to run this code again"
   ]
  },
  {
   "cell_type": "code",
   "execution_count": 11,
   "metadata": {},
   "outputs": [],
   "source": [
    "# Takes a deduplicated FASTA file of bacterial proteins\n",
    "# Returns the number of tryptic peptides with length ≥6 amino acids (Swaney, Wenger, & Coon [2010]) generated by processing all those proteins\n",
    "def calcTrypticPeptides(fastaFile):\n",
    "    trypticPeptides = set()\n",
    "    with open(fastaFile, 'r') as infile:\n",
    "        rawText = infile.read()\n",
    "        dataList = rawText.split('\\n>')\n",
    "        dataList[0] = dataList[0][1:]\n",
    "        del rawText\n",
    "        for sequence in dataList:\n",
    "            protein = Protein(sequence)\n",
    "            seq = protein.sequence\n",
    "            trypticList = []\n",
    "            for i in range(len(seq)):\n",
    "                trypticList.append(seq[i])\n",
    "                if i + 1 == len(seq):\n",
    "                    if len(trypticList) > 5:\n",
    "                        trypticPeptides.add(''.join(trypticList))\n",
    "                    trypticList = []\n",
    "                    continue\n",
    "                if (seq[i] == 'K' or seq[i] == 'R') and seq[i + 1] != 'P':\n",
    "                    if len(trypticList) > 5:\n",
    "                        trypticPeptides.add(''.join(trypticList))\n",
    "                    trypticList = []\n",
    "    return len(trypticPeptides)"
   ]
  },
  {
   "cell_type": "code",
   "execution_count": 50,
   "metadata": {},
   "outputs": [],
   "source": [
    "peptideDataDir = Path.cwd().joinpath('../PublicSequences/Combined_AllNCBI_12-21/')"
   ]
  },
  {
   "cell_type": "code",
   "execution_count": 14,
   "metadata": {},
   "outputs": [],
   "source": [
    "# Get the number of unique tryptic peptides I have for each organism, collapsing all Gardnerellas into G. vaginalis\n",
    "#trypticCounts = {'Gardnerella vaginalis':0} #key=species name, value=number of tryptic peptides\n",
    "#for file in peptideDataDir.iterdir():\n",
    "#    if not file.suffix == '.fasta':\n",
    "#        continue\n",
    "#    speciesName = file.name.replace('_', ' ')\n",
    "#    if speciesName.find('Gardnerella') != -1:\n",
    "#        trypticCounts['Gardnerella vaginalis'] += calcTrypticPeptides(file)\n",
    "#    else:\n",
    "#        trypticCounts[speciesName] = calcTrypticPeptides(file)"
   ]
  },
  {
   "cell_type": "code",
   "execution_count": 13,
   "metadata": {},
   "outputs": [],
   "source": [
    "trypticCountsFile = analysisPath.joinpath('species_tryptic_peptides.csv')"
   ]
  },
  {
   "cell_type": "code",
   "execution_count": 14,
   "metadata": {},
   "outputs": [],
   "source": [
    "# It took a while to get the number of tryptic peptides for all species, so I'll write that out to a csv file to make it easier to access\n",
    "#with trypticCountsFile.open(mode='w', newline='') as outfile:\n",
    "#    writer = csv.writer(outfile)\n",
    "#    for s, count in trypticCounts.items():\n",
    "#        species = s.replace('.fasta', '')\n",
    "#        writer.writerow([species, str(count)])"
   ]
  },
  {
   "cell_type": "code",
   "execution_count": 15,
   "metadata": {},
   "outputs": [],
   "source": [
    "trypticCounts = {} #key=species name, value=number of tryptic peptides\n",
    "with trypticCountsFile.open(mode='r') as infile:\n",
    "    reader = csv.reader(infile)\n",
    "    for row in reader:\n",
    "        species = row[0]\n",
    "        count = int(row[1])\n",
    "        if species != '':\n",
    "            trypticCounts[species] = count"
   ]
  },
  {
   "cell_type": "code",
   "execution_count": 35,
   "metadata": {},
   "outputs": [],
   "source": [
    "# Calculate the proportion of PSMs for the hybrid versus the 16S_Sample-matched databases\n",
    "TvsHProportion = []\n",
    "for i in range(len(hBacteriaCount)):\n",
    "    TvsHProportion.append(tBacteriaCount[i] / hBacteriaCount[i])"
   ]
  },
  {
   "cell_type": "code",
   "execution_count": 45,
   "metadata": {},
   "outputs": [],
   "source": [
    "# Calculate sample depth using the natural log of tryptic peptides we have for each organism\n",
    "sampleDepth = []\n",
    "for sample in SAMPLE_NAMES:\n",
    "    sampleData = abundanceData.loc[abundanceData['sample'] == int(sample)]\n",
    "    vals = []\n",
    "    for index, row in sampleData.iterrows():\n",
    "        ra = row['abundance'] / 100\n",
    "        if row['taxa'] in trypticCounts.keys():\n",
    "            vals.append(math.log(trypticCounts[row['taxa']]) * ra)\n",
    "        else:\n",
    "            vals.append(0)\n",
    "    sampleDepth.append(sum(vals))"
   ]
  },
  {
   "cell_type": "code",
   "execution_count": 47,
   "metadata": {},
   "outputs": [
    {
     "data": {
      "image/png": "[encoded data removed]",
      "text/plain": [
       "<Figure size 432x360 with 1 Axes>"
      ]
     },
     "metadata": {
      "needs_background": "light"
     },
     "output_type": "display_data"
    }
   ],
   "source": [
    "setPlt(size=(6, 5), ylim=(0.6, 1.1))\n",
    "proportionVSDepthDF = pd.DataFrame({'Weighted Average Bacterial Peptides in 16S Database':sampleDepth, 'Proportion 16S/Hybrid Bacterial PSMs':TvsHProportion, 'BV':BV_STATUS})\n",
    "depthGraph = sns.regplot(x='Weighted Average Bacterial Peptides in 16S Database', y='Proportion 16S/Hybrid Bacterial PSMs', ci=1, data=proportionVSDepthDF)\n",
    "saveFig(depthGraph, figPath.joinpath('depth3_correlation.png'))"
   ]
  },
  {
   "cell_type": "code",
   "execution_count": 48,
   "metadata": {},
   "outputs": [
    {
     "data": {
      "text/plain": [
       "SpearmanrResult(correlation=0.41527093596059106, pvalue=0.025078553027092974)"
      ]
     },
     "execution_count": 48,
     "metadata": {},
     "output_type": "execute_result"
    }
   ],
   "source": [
    "# Test whether there's a statistically significant association between tryptic peptide Sample Depth and Proportion of Tailored:Hybrid bacterial PSMs\n",
    "stats.spearmanr(TvsHProportion, sampleDepth)"
   ]
  }
 ],
 "metadata": {
  "kernelspec": {
   "display_name": "Python 3",
   "language": "python",
   "name": "python3"
  },
  "language_info": {
   "codemirror_mode": {
    "name": "ipython",
    "version": 3
   },
   "file_extension": ".py",
   "mimetype": "text/x-python",
   "name": "python",
   "nbconvert_exporter": "python",
   "pygments_lexer": "ipython3",
   "version": "3.6.4"
  }
 },
 "nbformat": 4,
 "nbformat_minor": 4
}
