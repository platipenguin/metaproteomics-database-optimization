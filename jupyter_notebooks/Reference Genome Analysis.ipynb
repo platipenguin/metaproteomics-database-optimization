{
 "cells": [
  {
   "cell_type": "markdown",
   "metadata": {},
   "source": [
    "**6/30/21**\n",
    "\n",
    "The purpose of this notebook is to compare the results of the 16S_Sample-Matched databases and the 16S_Reference database. I'm particularly interested in how the number of bacterial and human PSMs change when you use a 16S_Reference database, and what types of proteins you identify if you include protein sequences from all strains in your database."
   ]
  },
  {
   "cell_type": "code",
   "execution_count": 1,
   "metadata": {},
   "outputs": [],
   "source": [
    "from elliot_utils import *\n",
    "initWithReference()"
   ]
  },
  {
   "cell_type": "code",
   "execution_count": 2,
   "metadata": {},
   "outputs": [],
   "source": [
    "analysisPath = Path.cwd().joinpath('analysis_files/reference_genome_db/')\n",
    "figPath = Path.cwd().joinpath('figures/reference_genome_db/')"
   ]
  },
  {
   "cell_type": "code",
   "execution_count": 3,
   "metadata": {},
   "outputs": [],
   "source": [
    "tResults = getOrderedFiles(TAILORED_RESULTS, '.tsv')\n",
    "rResults = getOrderedFiles(Path.cwd().joinpath('../1-12-22_NextflowMSGF_Reference_Combined/output_refined_processed/'), '.tsv')"
   ]
  },
  {
   "cell_type": "code",
   "execution_count": 4,
   "metadata": {},
   "outputs": [],
   "source": [
    "tHPeps = getFilteredPeptides(tResults, 'human')\n",
    "tBPeps = getFilteredPeptides(tResults, 'bacteria')\n",
    "rHPeps = getFilteredPeptides(rResults, 'human')\n",
    "rBPeps = getFilteredPeptides(rResults, 'bacteria')"
   ]
  },
  {
   "cell_type": "code",
   "execution_count": 5,
   "metadata": {},
   "outputs": [],
   "source": [
    "# Parsing function to pull out the number of a specified type of spectra in a sample.\n",
    "def countSpectra(resultsList, lookFor, allowed=set()):\n",
    "    counts = []\n",
    "    countAll = False if len(allowed) > 0 else True\n",
    "    allowedPeps = allowed.copy()\n",
    "    for res in resultsList:\n",
    "        with res.open(mode='r') as infile:\n",
    "            reader = csv.reader(infile, delimiter='\\t')\n",
    "            count = 0\n",
    "            for row in reader:\n",
    "                protType = determineIDType(row)\n",
    "                if protType == 'first':\n",
    "                    continue\n",
    "                if countAll:\n",
    "                    allowedPeps.add(row[PEPTIDE])\n",
    "                if not isSignificant(row):\n",
    "                    break\n",
    "                if protType == lookFor and row[PEPTIDE] in allowedPeps:\n",
    "                    count += 1\n",
    "        counts.append(count)\n",
    "    return counts"
   ]
  },
  {
   "cell_type": "code",
   "execution_count": 6,
   "metadata": {},
   "outputs": [],
   "source": [
    "tHPSMs = countSpectra(tResults, 'human', tHPeps)\n",
    "tBPSMs = countSpectra(tResults, 'bacteria', tBPeps)\n",
    "rHPSMs = countSpectra(rResults, 'human', rHPeps)\n",
    "rBPSMs = countSpectra(rResults, 'bacteria', rBPeps)"
   ]
  },
  {
   "cell_type": "code",
   "execution_count": 12,
   "metadata": {},
   "outputs": [
    {
     "name": "stdout",
     "output_type": "stream",
     "text": [
      "Average ratio Reference:Sample-Matched Bacterial PSMs: 0.880581605686415\n"
     ]
    }
   ],
   "source": [
    "# Get average ratio of Reference to Sample-Matched for bacterial PSMs\n",
    "bactFoldChange = []\n",
    "for i in range(len(tBPSMs)):\n",
    "    bactFoldChange.append(rBPSMs[i] / tBPSMs[i])\n",
    "bactAvg = sum(bactFoldChange) / len(bactFoldChange)\n",
    "print(f'Average ratio Reference:Sample-Matched Bacterial PSMs: {bactAvg}')"
   ]
  },
  {
   "cell_type": "code",
   "execution_count": 13,
   "metadata": {},
   "outputs": [
    {
     "name": "stdout",
     "output_type": "stream",
     "text": [
      "Average ratio Reference:Sample-Matched Human PSMs: 1.0236338914315717\n"
     ]
    }
   ],
   "source": [
    "# Get average ratio of Reference to Sample-Matched for human PSMs\n",
    "humanFoldChange = []\n",
    "for i in range(len(tHPSMs)):\n",
    "    humanFoldChange.append(rHPSMs[i] / tHPSMs[i])\n",
    "humanAvg = sum(humanFoldChange) / len(humanFoldChange)\n",
    "print(f'Average ratio Reference:Sample-Matched Human PSMs: {humanAvg}')"
   ]
  },
  {
   "cell_type": "code",
   "execution_count": 14,
   "metadata": {},
   "outputs": [
    {
     "name": "stdout",
     "output_type": "stream",
     "text": [
      "Avg percent increase human PSMs using Reference: 2.363389143157169%\n"
     ]
    }
   ],
   "source": [
    "# Get percent increase human PSMs for Reference -> Tailored\n",
    "humanDifs = []\n",
    "for i in range(len(tHPSMs)):\n",
    "    humanDifs.append(((rHPSMs[i] - tHPSMs[i]) / tHPSMs[i]) * 100)\n",
    "print(f'Avg percent increase human PSMs using Reference: {str(sum(humanDifs) / len(humanDifs))}%')"
   ]
  },
  {
   "cell_type": "code",
   "execution_count": 15,
   "metadata": {},
   "outputs": [
    {
     "name": "stdout",
     "output_type": "stream",
     "text": [
      "Avg percent increase bacterial PSMs using Tailored: 18.952854206565952%\n"
     ]
    }
   ],
   "source": [
    "# Get percent increase bacterial PSMs for Tailored -> Reference\n",
    "bacterialDifs = []\n",
    "for i in range(len(tBPSMs)):\n",
    "    bacterialDifs.append(((tBPSMs[i] - rBPSMs[i]) / rBPSMs[i]) * 100)\n",
    "print(f'Avg percent increase bacterial PSMs using Tailored: {str(sum(bacterialDifs) / len(bacterialDifs))}%')"
   ]
  },
  {
   "cell_type": "code",
   "execution_count": 16,
   "metadata": {},
   "outputs": [
    {
     "data": {
      "image/png": "[encoded data removed]",
      "text/plain": [
       "<Figure size 432x288 with 1 Axes>"
      ]
     },
     "metadata": {
      "needs_background": "light"
     },
     "output_type": "display_data"
    }
   ],
   "source": [
    "# Plot the fold-change for human and bacterial PSMs as boxplots\n",
    "changePlotLabels = ['Human PSMs' for x in range(len(humanFoldChange))]\n",
    "changePlotLabels.extend(['Bacterial PSMs' for x in range(len(bactFoldChange))])\n",
    "changeDF = pd.DataFrame({'Fold-Change Sample-Matched/Reference':humanFoldChange + bactFoldChange, '':changePlotLabels})\n",
    "sns.boxplot(x='', y='Fold-Change Sample-Matched/Reference', data=changeDF, color='white')\n",
    "changeGraph = sns.swarmplot(x='', y='Fold-Change Sample-Matched/Reference', data=changeDF, color='black')\n",
    "saveFig(changeGraph, figPath.joinpath('foldchange_human_bacterial_psms.png'))"
   ]
  }
 ],
 "metadata": {
  "kernelspec": {
   "display_name": "Python 3",
   "language": "python",
   "name": "python3"
  },
  "language_info": {
   "codemirror_mode": {
    "name": "ipython",
    "version": 3
   },
   "file_extension": ".py",
   "mimetype": "text/x-python",
   "name": "python",
   "nbconvert_exporter": "python",
   "pygments_lexer": "ipython3",
   "version": "3.6.4"
  }
 },
 "nbformat": 4,
 "nbformat_minor": 4
}
