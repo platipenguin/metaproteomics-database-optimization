{
 "cells": [
  {
   "cell_type": "markdown",
   "metadata": {},
   "source": [
    "**1/5/21**\n",
    "\n",
    "The purpose of this notebook is to build the \"Metagenomic Combined\" sequence database that includes all non-redundant protein sequences found in metagenomic sequencing of the samples.\n",
    "\n",
    "I'll use the gene ID from the \"genes.fasta\" file as the protein ID (i.e. 'gene_59a6e05c_523aa'), the 'eggNOG_desc' value as the protein's name, and the 'tax_name' value as the organism name. Some of these values can be NaN, which I will substitute with 'Unknown.'"
   ]
  },
  {
   "cell_type": "code",
   "execution_count": 1,
   "metadata": {},
   "outputs": [],
   "source": [
    "import h5py\n",
    "import tables\n",
    "from elliot_utils import *"
   ]
  },
  {
   "cell_type": "code",
   "execution_count": 2,
   "metadata": {},
   "outputs": [],
   "source": [
    "annotationFile = Path.cwd().joinpath('../ShotgunMetagenomics/annotations.hdf5')\n",
    "geneFile = Path.cwd().joinpath('../ShotgunMetagenomics/genes.fasta')\n",
    "combinedDB = Path.cwd().joinpath('../ShotgunMetagenomics/metagenomic_combined.fasta')"
   ]
  },
  {
   "cell_type": "code",
   "execution_count": 3,
   "metadata": {},
   "outputs": [],
   "source": [
    "annotationDF = pd.read_hdf(annotationFile, '/annot/gene/all')"
   ]
  },
  {
   "cell_type": "code",
   "execution_count": 4,
   "metadata": {},
   "outputs": [],
   "source": [
    "geneHolder = {} #key = Sequenced gene ID, value = Protein object\n",
    "\n",
    "# Iterate over the genes file to pull out the gene ID and sequence for each\n",
    "with open(geneFile, 'r') as dataFile:\n",
    "    rawText = dataFile.read()\n",
    "    dataArray = rawText.split('\\n')\n",
    "    del rawText\n",
    "    for i in range(0, len(dataArray), 2):\n",
    "        geneID = dataArray[i][1:]\n",
    "        newProt = Protein('')\n",
    "        newProt.id = geneID\n",
    "        newProt.sequence = dataArray[i + 1]\n",
    "        geneHolder[geneID] = newProt\n",
    "    del dataArray"
   ]
  },
  {
   "cell_type": "code",
   "execution_count": 5,
   "metadata": {},
   "outputs": [],
   "source": [
    "# Retrieve protein name, taxa name from hdf5 file for each protein\n",
    "for i in range(len(annotationDF)):\n",
    "    annotID = annotationDF.at[i, 'gene']\n",
    "    geneHolder[annotID].name = annotationDF.at[i, 'eggNOG_desc']\n",
    "    if type(geneHolder[annotID].name) != str and math.isnan(geneHolder[annotID].name):\n",
    "        geneHolder[annotID].name = 'Hypothetical protein'\n",
    "    geneHolder[annotID].taxa = [annotationDF.at[i, 'tax_name']]\n",
    "    if type(geneHolder[annotID].taxa[0]) != str and math.isnan(geneHolder[annotID].taxa[0]):\n",
    "        geneHolder[annotID].taxa = ['Unknown']"
   ]
  },
  {
   "cell_type": "code",
   "execution_count": 6,
   "metadata": {},
   "outputs": [],
   "source": [
    "# Clean up the genes without annotations\n",
    "for prot in geneHolder.values():\n",
    "    if prot.taxa == None:\n",
    "        prot.taxa = ['Unknown']\n",
    "        prot.name = 'Hypothetical protein'"
   ]
  },
  {
   "cell_type": "code",
   "execution_count": 8,
   "metadata": {},
   "outputs": [],
   "source": [
    "# Write the combined data out to the new database file\n",
    "toWrite = []\n",
    "for prot in geneHolder.values():\n",
    "    toWrite.append(prot.getFormattedEntry())"
   ]
  },
  {
   "cell_type": "code",
   "execution_count": 11,
   "metadata": {},
   "outputs": [],
   "source": [
    "with open(combinedDB, 'w', newline='') as output:\n",
    "    output.write(''.join(toWrite))"
   ]
  },
  {
   "cell_type": "code",
   "execution_count": 24,
   "metadata": {},
   "outputs": [],
   "source": [
    "### Create the refined Shotgun_Pooled database ###"
   ]
  },
  {
   "cell_type": "code",
   "execution_count": 8,
   "metadata": {},
   "outputs": [],
   "source": [
    "# Process the initial result files with collapseRepeatRows() from elliot_utils\n",
    "combinedUnprocessed = getOrderedFiles(Path.cwd().joinpath('../3-8-21_NextflowMSGF_Combined_CombinedMetagenomic/combinedmetagenomic_output/'), '.tsv')\n",
    "combinedProcessedPath = Path.cwd().joinpath('../3-8-21_NextflowMSGF_combined_CombinedMetagenomic/combinedmetagenomic_output_processed/')"
   ]
  },
  {
   "cell_type": "code",
   "execution_count": 9,
   "metadata": {},
   "outputs": [],
   "source": [
    "collapseRepeatRows(combinedUnprocessed, combinedProcessedPath)"
   ]
  },
  {
   "cell_type": "code",
   "execution_count": 6,
   "metadata": {},
   "outputs": [
    {
     "name": "stdout",
     "output_type": "stream",
     "text": [
      "Done reading metagenomic_combined.fasta\n",
      "289179 sequences written.\n"
     ]
    }
   ],
   "source": [
    "combinedFolder = Path.cwd().joinpath('../ShotgunMetagenomics/combined/')\n",
    "combinedHitProts = getHitsInResults(Path.cwd().joinpath('../3-8-21_NextflowMSGF_combined_CombinedMetagenomic/combinedmetagenomic_output_processed/'))\n",
    "refinedCombinedPath = Path.cwd().joinpath('../4-9-21_NextflowMSGF_Combined_Pooled/database_refined/')\n",
    "refineHugeDatabase(combinedHitProts, combinedFolder, refinedCombinedPath, 'metagenomicCombined_refined')"
   ]
  },
  {
   "cell_type": "code",
   "execution_count": 7,
   "metadata": {},
   "outputs": [],
   "source": [
    "# Process results of the refined Shotgun_Pooled database\n",
    "combinedRefinedUnprocessed = getOrderedFiles(Path.cwd().joinpath('../4-9-21_NextflowMSGF_Combined_Pooled/output_combined_refined/'), '.tsv')\n",
    "refinedCombinedProcessedPath = Path.cwd().joinpath('../4-9-21_NextflowMSGF_Combined_Pooled/output_combined_refined_processed/')\n",
    "collapseRepeatRows(combinedRefinedUnprocessed, refinedCombinedProcessedPath)"
   ]
  },
  {
   "cell_type": "code",
   "execution_count": 12,
   "metadata": {},
   "outputs": [],
   "source": [
    "### Prepare individual sequencing databases###"
   ]
  },
  {
   "cell_type": "code",
   "execution_count": 3,
   "metadata": {},
   "outputs": [],
   "source": [
    "humanFile = Path.cwd().joinpath('../ShotgunMetagenomics/Human9606_2-6-2019_TrypPigBov.fasta')\n",
    "indDataFolder = Path.cwd().joinpath('../ShotgunMetagenomics/individual')\n",
    "outputFolder = Path.cwd().joinpath('../ShotgunMetagenomics/individual_databases')"
   ]
  },
  {
   "cell_type": "code",
   "execution_count": 4,
   "metadata": {},
   "outputs": [
    {
     "ename": "NameError",
     "evalue": "name 'genesFolder' is not defined",
     "output_type": "error",
     "traceback": [
      "\u001b[1;31m---------------------------------------------------------------------------\u001b[0m",
      "\u001b[1;31mNameError\u001b[0m                                 Traceback (most recent call last)",
      "\u001b[1;32m<ipython-input-4-7ac375d90495>\u001b[0m in \u001b[0;36m<module>\u001b[1;34m\u001b[0m\n\u001b[0;32m      1\u001b[0m \u001b[1;31m# Get the gene IDs from the individual gene files so they can be matched to the annotated genes\u001b[0m\u001b[1;33m\u001b[0m\u001b[1;33m\u001b[0m\u001b[0m\n\u001b[1;32m----> 2\u001b[1;33m \u001b[0mpreindGeneFiles\u001b[0m \u001b[1;33m=\u001b[0m \u001b[0mgetOrderedFiles\u001b[0m\u001b[1;33m(\u001b[0m\u001b[0mgenesFolder\u001b[0m\u001b[1;33m,\u001b[0m \u001b[1;34m'.faa'\u001b[0m\u001b[1;33m)\u001b[0m\u001b[1;33m\u001b[0m\u001b[0m\n\u001b[0m\u001b[0;32m      3\u001b[0m \u001b[1;33m\u001b[0m\u001b[0m\n\u001b[0;32m      4\u001b[0m \u001b[1;31m# Make a separate set for each sample to hold the amino acid sequences of each translated protein\u001b[0m\u001b[1;33m\u001b[0m\u001b[1;33m\u001b[0m\u001b[0m\n\u001b[0;32m      5\u001b[0m \u001b[0mpreIndHolders\u001b[0m \u001b[1;33m=\u001b[0m \u001b[1;33m[\u001b[0m\u001b[1;33m]\u001b[0m\u001b[1;33m\u001b[0m\u001b[0m\n",
      "\u001b[1;31mNameError\u001b[0m: name 'genesFolder' is not defined"
     ]
    }
   ],
   "source": [
    "# Get the gene IDs from the individual gene files so they can be matched to the annotated genes\n",
    "preindGeneFiles = getOrderedFiles(genesFolder, '.faa')\n",
    "\n",
    "# Make a separate set for each sample to hold the amino acid sequences of each translated protein\n",
    "preIndHolders = []\n",
    "for i in range(len(SAMPLE_NAMES)):\n",
    "    geneHolders.append([])\n",
    "    with open(preindGeneFiles[i], 'r') as dataFile:\n",
    "        rawText = dataFile.read()\n",
    "        dataList = rawText.split('\\n>')\n",
    "        dataList[0] = dataList[0][1:]\n",
    "        del rawText\n",
    "        for entry in dataList:\n",
    "            prelimSeq = entry[entry.find('\\n') + 1:].replace('\\n', '')\n",
    "            geneHolders[i].append(prelimSeq.replace('*', ''))"
   ]
  },
  {
   "cell_type": "code",
   "execution_count": 42,
   "metadata": {},
   "outputs": [],
   "source": [
    "# Get list of gene IDs for each sample\n",
    "indCSVs = getOrderedFiles(genesFolder, '.csv')\n",
    "genesInSamples = [] # key=individual gene ID, value=annotated gene ID (can be None)\n",
    "\n",
    "for i in range(len(SAMPLE_NAMES)):\n",
    "    genesInSamples.append([])\n",
    "    with open(indCSVs[i], 'r') as infile:\n",
    "        reader = csv.reader(infile, delimiter=',')\n",
    "        header = True\n",
    "        annotIndex = -1\n",
    "        for row in reader:\n",
    "            if header:\n",
    "                annotIndex = row.index('catalog_gene')\n",
    "                header = False\n",
    "                continue\n",
    "            annotVal = row[annotIndex]\n",
    "            if not annotVal == '':\n",
    "                genesInSamples[i].append(annotVal)"
   ]
  },
  {
   "cell_type": "code",
   "execution_count": 43,
   "metadata": {},
   "outputs": [],
   "source": [
    "# Get annotation data from geneHolder, write that and human/contaminant sequences to database file\n",
    "humanData = ''\n",
    "with open(humanFile, 'r') as infile:\n",
    "    humanData = infile.read()"
   ]
  },
  {
   "cell_type": "code",
   "execution_count": 53,
   "metadata": {},
   "outputs": [],
   "source": [
    "for i in range(len(SAMPLE_NAMES)):\n",
    "    toWrite = [humanData]\n",
    "    for gene in genesInSamples[i]:\n",
    "        toWrite.append(geneHolder[gene].getFormattedEntry())\n",
    "    with open(outputFolder.joinpath(f'{SAMPLE_NAMES[i]}_metagenomicIndividual.fasta'), 'w', newline='') as output:\n",
    "        output.write(''.join(toWrite))"
   ]
  },
  {
   "cell_type": "code",
   "execution_count": 5,
   "metadata": {},
   "outputs": [],
   "source": [
    "# Process results for Shotgun_Sample-Matched databases\n",
    "individualUnprocessed = getOrderedFiles(Path.cwd().joinpath('../3-10-21_NextflowMSGF_Combined_IndividualMetagenomic/output/'), '.tsv')\n",
    "individualProcessedPath = Path.cwd().joinpath('../3-10-21_NextflowMSGF_Combined_IndividualMetagenomic/output_processed/')"
   ]
  },
  {
   "cell_type": "code",
   "execution_count": null,
   "metadata": {},
   "outputs": [],
   "source": [
    "collapseRepeatRows(individualUnprocessed, individualProcessedPath)"
   ]
  },
  {
   "cell_type": "code",
   "execution_count": 6,
   "metadata": {},
   "outputs": [],
   "source": [
    "# Refine Shotgun_Sample-Matched databases\n",
    "individualProcessed = getOrderedFiles(individualProcessedPath, '.tsv')\n",
    "individualDBs = getOrderedFiles(outputFolder, '.fasta')"
   ]
  },
  {
   "cell_type": "code",
   "execution_count": 7,
   "metadata": {},
   "outputs": [],
   "source": [
    "# For each result/db pair, pull out all the hit proteins in the result file, identify the proteins in the DB, then write them out to a new DB\n",
    "individualRefinedPath = Path.cwd().joinpath('../4-2-21_NextflowMSGF_Combined_Individual/databases_refined/')\n",
    "for i in range(len(individualProcessed)):\n",
    "    protsToInclude = set()\n",
    "    with individualProcessed[i].open(mode='r') as infile:\n",
    "        reader = csv.reader(infile, delimiter='\\t')\n",
    "        for row in reader:\n",
    "            protType = determineHitType(row)\n",
    "            if protType == 'first':\n",
    "                continue\n",
    "            hitProts = getProteinHitList(row)\n",
    "            for hit in hitProts:\n",
    "                if hit.find('XXX_') == -1: # Ignore decoy hits\n",
    "                    protsToInclude.add(hit)\n",
    "    protObjs = {} # key=protID, value=protein object\n",
    "    with open(individualDBs[i], 'r') as database:\n",
    "        rawText = database.read()\n",
    "        dataList = rawText.split('\\n>')\n",
    "        dataList[0] = dataList[0][1:]\n",
    "        del rawText\n",
    "        for sequence in dataList:\n",
    "            newProt = Protein(sequence)\n",
    "            if newProt.id in protsToInclude:\n",
    "                if newProt.id in protObjs.keys():\n",
    "                    for taxa in newProt.taxa:\n",
    "                        protObjs[newProt.id].addTaxa(taxa)\n",
    "                else:\n",
    "                    protObjs[newProt.id] = newProt\n",
    "    toWrite = []\n",
    "    for prot in protObjs.values():\n",
    "        toWrite.append(prot.getEntry())\n",
    "    with open(individualRefinedPath.joinpath(f'{SAMPLE_NAMES[i]}_metagenomicIndividual_refined.fasta'), 'w', newline='') as output:\n",
    "        output.write(''.join(toWrite))"
   ]
  },
  {
   "cell_type": "code",
   "execution_count": 13,
   "metadata": {},
   "outputs": [],
   "source": [
    "# Process results for Shotgun_Sample-Matched Refined databases\n",
    "individualRefinedUnprocessed = getOrderedFiles(Path.cwd().joinpath('../4-2-21_NextflowMSGF_Combined_Individual/output_refined/'), '.tsv')\n",
    "individualRefinedProcessedPath = Path.cwd().joinpath('../4-2-21_NextflowMSGF_Combined_Individual/output_refined_processed/')\n",
    "collapseRepeatRows(individualRefinedUnprocessed, individualRefinedProcessedPath)"
   ]
  }
 ],
 "metadata": {
  "kernelspec": {
   "display_name": "Python 3",
   "language": "python",
   "name": "python3"
  },
  "language_info": {
   "codemirror_mode": {
    "name": "ipython",
    "version": 3
   },
   "file_extension": ".py",
   "mimetype": "text/x-python",
   "name": "python",
   "nbconvert_exporter": "python",
   "pygments_lexer": "ipython3",
   "version": "3.6.4"
  }
 },
 "nbformat": 4,
 "nbformat_minor": 4
}
