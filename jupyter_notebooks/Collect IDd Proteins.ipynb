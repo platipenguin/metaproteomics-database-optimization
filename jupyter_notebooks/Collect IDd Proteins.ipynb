{
 "cells": [
  {
   "cell_type": "markdown",
   "metadata": {},
   "source": [
    "**4/28/21**\n",
    "\n",
    "The purpose of this notebook is to collect all of the human and bacterial proteins IDd in the Community, Tailored, Hybrid, and Single database searches for later annotation and functional characterization."
   ]
  },
  {
   "cell_type": "code",
   "execution_count": 1,
   "metadata": {},
   "outputs": [],
   "source": [
    "from elliot_utils import *"
   ]
  },
  {
   "cell_type": "code",
   "execution_count": 2,
   "metadata": {},
   "outputs": [],
   "source": [
    "analysisPath = Path('analysis_files/functional_analysis/')"
   ]
  },
  {
   "cell_type": "code",
   "execution_count": 3,
   "metadata": {},
   "outputs": [],
   "source": [
    "cResults = getOrderedFiles(COMMUNITY_RESULTS, '.tsv')\n",
    "tResults = getOrderedFiles(TAILORED_RESULTS, '.tsv')\n",
    "hResults = getOrderedFiles(HYBRID_RESULTS, '.tsv')\n",
    "sResults = getOrderedFiles(SINGLE_RESULTS, '.tsv')\n",
    "pResults = getOrderedFiles(POOLED_RESULTS, '.tsv')"
   ]
  },
  {
   "cell_type": "code",
   "execution_count": 4,
   "metadata": {},
   "outputs": [],
   "source": [
    "cDBs = getOrderedFiles(COMMUNITY_DB, '.fasta')\n",
    "tDBs = getOrderedFiles(TAILORED_DB, '.fasta')\n",
    "hDBs = getOrderedFiles(HYBRID_DB, '.fasta')\n",
    "sDBs = getOrderedFiles(SINGLE_DB, '.fasta')\n",
    "pDBs = getOrderedFiles(POOLED_DB, '.fasta')"
   ]
  },
  {
   "cell_type": "code",
   "execution_count": 5,
   "metadata": {},
   "outputs": [],
   "source": [
    "cRefs = [ProtRef(x) for x in cDBs]\n",
    "tRefs = [ProtRef(x) for x in tDBs]\n",
    "hRefs = [ProtRef(x) for x in hDBs]\n",
    "sRefs = [ProtRef(x) for x in sDBs]\n",
    "pRefs = [ProtRef(x) for x in pDBs]"
   ]
  },
  {
   "cell_type": "code",
   "execution_count": 6,
   "metadata": {},
   "outputs": [],
   "source": [
    "cHPeps = getFilteredPeptides(cResults, 'human')\n",
    "tHPeps = getFilteredPeptides(tResults, 'human')\n",
    "hHPeps = getFilteredPeptides(hResults, 'human')\n",
    "sHPeps = getFilteredPeptides(sResults, 'human')\n",
    "pHPeps = getFilteredPeptides(pResults, 'human')\n",
    "cPeps = getFilteredPeptides(cResults, 'bacteria')\n",
    "tPeps = getFilteredPeptides(tResults, 'bacteria')\n",
    "hPeps = getFilteredPeptides(hResults, 'bacteria')\n",
    "sPeps = getFilteredPeptides(sResults, 'bacteria')\n",
    "pPeps = getFilteredPeptides(pResults, 'bacteria')"
   ]
  },
  {
   "cell_type": "code",
   "execution_count": 7,
   "metadata": {},
   "outputs": [],
   "source": [
    "# Pull all of the valid, hit proteins out of the results and add them to the dictionary of proteins\n",
    "# Collapses proteins with the same ID together, adding new taxa to the same protein ID\n",
    "# Format of outDict is key=protID, value=protein object\n",
    "def collectProtsInDict(results, refs, allowedPeps, typeOfProt, outDict):\n",
    "    for i in range(len(results)):\n",
    "        res = results[i]\n",
    "        ref = refs[i] if len(refs) > 1 else refs[0]\n",
    "        with res.open(mode='r') as infile:\n",
    "            reader = csv.reader(infile, delimiter='\\t')\n",
    "            for row in reader:\n",
    "                protType = determineIDType(row)\n",
    "                if protType == 'first':\n",
    "                    continue\n",
    "                if not isSignificant(row):\n",
    "                    break\n",
    "                if row[PEPTIDE] in allowedPeps and protType == typeOfProt:\n",
    "                    hits = getProteinHitList(row, typeOfProt)\n",
    "                    for hit in hits:\n",
    "                        prot = ref.getProt(hit)\n",
    "                        if prot.id in outDict.keys():\n",
    "                            for t in prot.taxa:\n",
    "                                outDict[prot.id].addTaxa(t)\n",
    "                        else:\n",
    "                            outDict[prot.id] = prot"
   ]
  },
  {
   "cell_type": "code",
   "execution_count": 8,
   "metadata": {},
   "outputs": [],
   "source": [
    "# Collect all of the hit bacterial proteins into a dictionary\n",
    "allProts = {} # key=protID, value=protein object\n",
    "collectProtsInDict(cResults, cRefs, cPeps, 'bacteria', allProts)\n",
    "collectProtsInDict(tResults, tRefs, tPeps, 'bacteria', allProts)\n",
    "collectProtsInDict(hResults, hRefs, hPeps, 'bacteria', allProts)\n",
    "collectProtsInDict(sResults, sRefs, sPeps, 'bacteria', allProts)\n",
    "collectProtsInDict(pResults, pRefs, pPeps, 'bacteria', allProts)"
   ]
  },
  {
   "cell_type": "code",
   "execution_count": 9,
   "metadata": {},
   "outputs": [],
   "source": [
    "allProtsFasta = analysisPath.joinpath('all_hit_bacterial_proteins.fasta')\n",
    "toWrite = []\n",
    "for prot in allProts.values():\n",
    "    toWrite.append(prot.getEntry())\n",
    "with open(allProtsFasta, 'w', newline='') as output:\n",
    "    output.write(''.join(toWrite))"
   ]
  },
  {
   "cell_type": "code",
   "execution_count": 10,
   "metadata": {},
   "outputs": [],
   "source": [
    "# Collect all of the hit human proteins into a dictionary\n",
    "allHumanProts = {} # key=protID, value=protein object\n",
    "collectProtsInDict(cResults, cRefs, cHPeps, 'human', allHumanProts)\n",
    "collectProtsInDict(tResults, tRefs, tHPeps, 'human', allHumanProts)\n",
    "collectProtsInDict(hResults, hRefs, hHPeps, 'human', allHumanProts)\n",
    "collectProtsInDict(sResults, sRefs, sHPeps, 'human', allHumanProts)\n",
    "collectProtsInDict(pResults, pRefs, pHPeps, 'human', allHumanProts)"
   ]
  },
  {
   "cell_type": "code",
   "execution_count": 12,
   "metadata": {},
   "outputs": [],
   "source": [
    "allHumanProtsFasta = analysisPath.joinpath('all_hit_human_proteins.fasta')\n",
    "toWrite = []\n",
    "for prot in allHumanProts.values():\n",
    "    toWrite.append(prot.getEntry())\n",
    "with open(allHumanProtsFasta, 'w', newline='') as output:\n",
    "    output.write(''.join(toWrite))"
   ]
  }
 ],
 "metadata": {
  "kernelspec": {
   "display_name": "Python 3",
   "language": "python",
   "name": "python3"
  },
  "language_info": {
   "codemirror_mode": {
    "name": "ipython",
    "version": 3
   },
   "file_extension": ".py",
   "mimetype": "text/x-python",
   "name": "python",
   "nbconvert_exporter": "python",
   "pygments_lexer": "ipython3",
   "version": "3.6.4"
  }
 },
 "nbformat": 4,
 "nbformat_minor": 4
}
