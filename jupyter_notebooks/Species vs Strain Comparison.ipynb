{
 "cells": [
  {
   "cell_type": "markdown",
   "metadata": {},
   "source": [
    "**7/2/2020**\n",
    "\n",
    "I hypothesize that adding additional strains of a species to a database will have a smaller impact on the number of significant PSMs identified by a search than adding additional species. To test this hypothesis, I will randomly add additional strains of *L. crispatus*, or additional species pulled from the Human Microbiome Sequencing Project to a database. I will run these tests on all the samples to reduce weird effects from a single sample. I will test 3 separate databases with 20, 40, 60, 80, or 100 additional random strains/species added. These random databases will be built on database containing the most PSMs-generating strain from 10 very common vaginal species. These are *G. swidsinskii GS10234, G.leopoldii UMB0912, P. lacrimalis UMB0411, G. vaginalis DNF01149, G. piotii UGhent 18.01, L. iners SPIN 1401G, Megasphaera genomospecies 1 UPII 199-6, P. timonensis DSM 22865, Lachnovaginosum,* and *L. crispatus JV-V01*."
   ]
  },
  {
   "cell_type": "code",
   "execution_count": 1,
   "metadata": {},
   "outputs": [],
   "source": [
    "from elliot_utils import *\n",
    "import random"
   ]
  },
  {
   "cell_type": "code",
   "execution_count": 2,
   "metadata": {},
   "outputs": [],
   "source": [
    "figPath = Path.cwd().joinpath('figures/species_vs_strain/')\n",
    "analysisPath = Path.cwd().joinpath('analysis_files/species_vs_strain/')"
   ]
  },
  {
   "cell_type": "code",
   "execution_count": 3,
   "metadata": {},
   "outputs": [],
   "source": [
    "# Create a list of 104 random species from the HMB list that do not overlap with the vaginal bacteria, and are all different genera\n",
    "# (Because I have 104 strains of L. crispatus to choose from)\n",
    "hmbFile = analysisPath.joinpath('hmb_species.csv') # HMB species\n",
    "vaginalFile = analysisPath.joinpath('tailored_taxalist.csv') # Vaginal bacteria that I want to exclude\n",
    "excludeGenera = set()\n",
    "with vaginalFile.open(mode='r') as infile:\n",
    "    reader = csv.reader(infile)\n",
    "    for row in reader:\n",
    "        gen = getFirstWord(row[0])\n",
    "        excludeGenera.add(gen)"
   ]
  },
  {
   "cell_type": "code",
   "execution_count": 3,
   "metadata": {},
   "outputs": [],
   "source": [
    "### This and the following two blocks were used to pull random species from the hmb file and write them to 'random_species.csv', so they only need to be run once\n",
    "\n",
    "#hmbSpecies = []\n",
    "#with hmbFile.open(mode='r') as infile:\n",
    "#    reader = csv.reader(infile)\n",
    "#    for row in reader:\n",
    "#        hmbSpecies.append(row[0])"
   ]
  },
  {
   "cell_type": "code",
   "execution_count": 4,
   "metadata": {},
   "outputs": [],
   "source": [
    "#randomSpecies = []\n",
    "#while len(randomSpecies) < 104:\n",
    "#    r = random.randint(0, len(hmbSpecies) - 1)\n",
    "#    gen = getFirstWord(hmbSpecies[r])\n",
    "#    if gen in excludeGenera:\n",
    "#        continue\n",
    "#    else:\n",
    "#        randomSpecies.append(hmbSpecies[r])\n",
    "#        excludeGenera.add(gen)"
   ]
  },
  {
   "cell_type": "code",
   "execution_count": 5,
   "metadata": {},
   "outputs": [],
   "source": [
    "#with analysisPath.joinpath('random_species.csv').open(mode='w', newline='') as outfile:\n",
    "#    writer = csv.writer(outfile)\n",
    "#    for species in randomSpecies:\n",
    "#        writer.writerow([species])"
   ]
  },
  {
   "cell_type": "markdown",
   "metadata": {},
   "source": [
    "Build random databases using the \"speciesVSstrain.fasta\" database as a baseline, and place them in the \"7-8-20_NextflowMSGF_Combined_speciesVSstrains\" folder."
   ]
  },
  {
   "cell_type": "code",
   "execution_count": 6,
   "metadata": {},
   "outputs": [],
   "source": [
    "dbPath = Path('../7-8-20_NextflowMSGF_Combined_speciesVSstrains/databases/')\n",
    "baseDB = dbPath.joinpath('speciesVSstrain.fasta')\n",
    "strainsPath = analysisPath.joinpath('lcrispatus_sequences/')\n",
    "speciesPath = analysisPath.joinpath('random_hmb_sequences/')"
   ]
  },
  {
   "cell_type": "code",
   "execution_count": 7,
   "metadata": {},
   "outputs": [],
   "source": [
    "# Reads in a fasta file and returns a list of protein objects contained inside\n",
    "def getProteinsFromFasta(fastaFile):\n",
    "    toReturn = []\n",
    "    with fastaFile.open(mode='r') as database:\n",
    "        entry = []\n",
    "        completeEntries = []\n",
    "        for line in database:\n",
    "            if line[0] == '>' and entry != []:\n",
    "                entry[0] = entry[0].replace('>', '')\n",
    "                completeEntries.append(''.join(entry))\n",
    "                entry = [line]\n",
    "            else:\n",
    "                entry.append(line)\n",
    "        entry[0] = entry[0].replace('>', '')\n",
    "        completeEntries.append(''.join(entry))\n",
    "        for e in completeEntries:\n",
    "            toReturn.append(Protein(e))\n",
    "    return toReturn\n",
    "\n",
    "# Condenses proteins in prots with the same amino acid sequence, then writes them out to the specified path\n",
    "# Returns the number of proteins written to the new database\n",
    "def writeProteinsToFile(prots, outPath):\n",
    "    toWrite = {} # key=protein sequence, value = protein\n",
    "    for prot in prots:\n",
    "        if prot.sequence in toWrite.keys():\n",
    "            for t in prot.taxa:\n",
    "                toWrite[prot.sequence].addTaxa(t)\n",
    "        else:\n",
    "            toWrite[prot.sequence] = prot\n",
    "    with outPath.open(mode='w', newline='') as outfile:\n",
    "        for prot in toWrite.values():\n",
    "            outfile.write(prot.getEntry())\n",
    "    return len(toWrite)"
   ]
  },
  {
   "cell_type": "code",
   "execution_count": 8,
   "metadata": {},
   "outputs": [],
   "source": [
    "### The following code blocks build the databases and only need to be run once\n",
    "\n",
    "## Build the strain databases\n",
    "#strainAssociator = {} # key=strain name, value=list of proteins for that strain\n",
    "#strainNames = []\n",
    "#strainAssociator['base'] = getProteinsFromFasta(baseDB)\n",
    "#for strainFile in [x for x in strainsPath.iterdir() if x.suffix == '.fasta']:\n",
    "#    identifier = strainFile.name.split('_')[1]\n",
    "#    strainNames.append(identifier)\n",
    "#    strainAssociator[identifier] = getProteinsFromFasta(strainFile)"
   ]
  },
  {
   "cell_type": "code",
   "execution_count": 9,
   "metadata": {},
   "outputs": [],
   "source": [
    "#strSizes = [] # How many sequences are in each database\n",
    "#for i in range(1, 6):\n",
    "#    strSizes.append([])\n",
    "#    num = i * 20\n",
    "#    for j in range(3):\n",
    "#        strainsCopy = strainNames.copy()\n",
    "#        dbProts = []\n",
    "#        for prot in strainAssociator['base']: # Build this db off the base db\n",
    "#            dbProts.append(prot.copy())\n",
    "#        for k in range(num): # Add 'num' additional strains\n",
    "#            r = random.randint(0, len(strainsCopy) - 1)\n",
    "#            for prot in strainAssociator[strainsCopy[r]]:\n",
    "#                dbProts.append(prot.copy())\n",
    "#            strainsCopy.remove(strainsCopy[r])\n",
    "#        count = writeProteinsToFile(dbProts, dbPath.joinpath(f'str{str(num)}-{str(j)}.fasta'))\n",
    "#        strSizes[i - 1].append(count)"
   ]
  },
  {
   "cell_type": "code",
   "execution_count": 10,
   "metadata": {},
   "outputs": [],
   "source": [
    "## Write out database sizes to a csv file\n",
    "#with analysisPath.joinpath('strainDBs_sizes.csv').open(mode='w', newline='') as outfile:\n",
    "#    writer = csv.writer(outfile)\n",
    "#    for row in strSizes:\n",
    "#        writer.writerow(row)"
   ]
  },
  {
   "cell_type": "code",
   "execution_count": 11,
   "metadata": {},
   "outputs": [],
   "source": [
    "## Build the species databases\n",
    "#speciesAssociator = {} # key=species name, value=list of proteins for that species\n",
    "#speciesNames = []\n",
    "#speciesAssociator['base'] = getProteinsFromFasta(baseDB)\n",
    "#for speciesFile in [x for x in speciesPath.iterdir() if x.suffix == '.fasta']:\n",
    "#    identifier = speciesFile.name.split('_')[0]\n",
    "#    speciesNames.append(identifier)\n",
    "#    speciesAssociator[identifier] = getProteinsFromFasta(speciesFile)"
   ]
  },
  {
   "cell_type": "code",
   "execution_count": 12,
   "metadata": {},
   "outputs": [],
   "source": [
    "#speSizes = [] # How many sequences are in each database\n",
    "#for i in range(1, 6):\n",
    "#    speSizes.append([])\n",
    "#    num = i * 20\n",
    "#    for j in range(3):\n",
    "#        speciesCopy = speciesNames.copy()\n",
    "#        dbProts = []\n",
    "#        for prot in speciesAssociator['base']: # Build this db off the base db\n",
    "#            dbProts.append(prot.copy())\n",
    "#        for k in range(num): # Add 'num' additional species\n",
    "#            r = random.randint(0, len(speciesCopy) - 1)\n",
    "#            for prot in speciesAssociator[speciesCopy[r]]:\n",
    "#                dbProts.append(prot.copy())\n",
    "#            speciesCopy.remove(speciesCopy[r])\n",
    "#        count = writeProteinsToFile(dbProts, dbPath.joinpath(f'spe{str(num)}-{str(j)}.fasta'))\n",
    "#        speSizes[i - 1].append(count)"
   ]
  },
  {
   "cell_type": "code",
   "execution_count": 13,
   "metadata": {},
   "outputs": [],
   "source": [
    "## Write out database sizes to a csv file\n",
    "#with analysisPath.joinpath('speciesDBs_sizes.csv').open(mode='w', newline='') as outfile:\n",
    "#    writer = csv.writer(outfile)\n",
    "#    for row in speSizes:\n",
    "#        writer.writerow(row)"
   ]
  },
  {
   "cell_type": "code",
   "execution_count": 14,
   "metadata": {},
   "outputs": [],
   "source": [
    "# Generate data on database size\n",
    "typeLabels = ['Strain' for x in range(15)]\n",
    "typeLabels.extend(['Species' for x in range(15)])\n",
    "countLabels = [20,20,20,40,40,40,60,60,60,80,80,80,100,100,100,20,20,20,40,40,40,60,60,60,80,80,80,100,100,100]\n",
    "seqNumbers = []\n",
    "with analysisPath.joinpath('strainDBs_sizes.csv').open(mode='r') as infile:\n",
    "    reader = csv.reader(infile)\n",
    "    for row in reader:\n",
    "        for value in row:\n",
    "            seqNumbers.append(int(value))\n",
    "with analysisPath.joinpath('speciesDBs_sizes.csv').open(mode='r') as infile:\n",
    "    reader = csv.reader(infile)\n",
    "    for row in reader:\n",
    "        for value in row:\n",
    "            seqNumbers.append(int(value))\n",
    "seqDF = pd.DataFrame({'Sequences in Database':seqNumbers, 'Database Type':typeLabels, 'Additional Individuals':countLabels})"
   ]
  },
  {
   "cell_type": "code",
   "execution_count": 15,
   "metadata": {},
   "outputs": [
    {
     "data": {
      "image/png": "[encoded data removed]",
      "text/plain": [
       "<Figure size 432x288 with 1 Axes>"
      ]
     },
     "metadata": {
      "needs_background": "light"
     },
     "output_type": "display_data"
    }
   ],
   "source": [
    "seqGraph = sns.pointplot(x='Additional Individuals', y='Sequences in Database', hue='Database Type', data=seqDF, join=False, capsize=0.3)\n",
    "saveFig(seqGraph, figPath.joinpath('size_comparison.png'))"
   ]
  },
  {
   "cell_type": "markdown",
   "metadata": {},
   "source": [
    "Searching six sample files against all 31 databases generated a huge amount of results, so I'll determine the number of signficant human and bacterial PSMs in each result file, then write that to a local CSV to save space, and make it so I don't have to re-analyze all those results again."
   ]
  },
  {
   "cell_type": "code",
   "execution_count": 16,
   "metadata": {},
   "outputs": [],
   "source": [
    "resPath = Path.cwd().joinpath('../7-8-20_NextflowMSGF_Combined_speciesVSstrains/output_processed/')\n",
    "countPath = analysisPath.joinpath('psm_counts_processed.csv')"
   ]
  },
  {
   "cell_type": "code",
   "execution_count": 9,
   "metadata": {},
   "outputs": [],
   "source": [
    "### This code and the following 2 cells have been run and the results stored in 'psm_counts.csv'\n",
    "\n",
    "## Get a list of allowed peptides for each database\n",
    "#resDict = {} # key=db identifer, value=list of result files for that db\n",
    "#for res in [x for x in resPath.iterdir() if x.suffix == '.tsv']: # Group result files by database they came from\n",
    "#    resName = res.name.split('.')[0]\n",
    "#    dbName = resName[56:]\n",
    "#    if not dbName in resDict.keys():\n",
    "#        resDict[dbName] = []\n",
    "#    resDict[dbName].append(res)\n",
    "#\n",
    "#allowedDict = {} # key=db identifier, value=set of allowed peptides\n",
    "#for dbid, resList in resDict.items(): # Get the filtered list of human & bacterial peptides for each set of results\n",
    "#    allowedPeps = getFilteredPeptides(resList, 'bacteria')\n",
    "#    allowedPeps.update(getFilteredPeptides(resList, 'human'))\n",
    "#    allowedDict[dbid] = allowedPeps"
   ]
  },
  {
   "cell_type": "code",
   "execution_count": 10,
   "metadata": {},
   "outputs": [],
   "source": [
    "# The PSM count files have been generated so this code and the following block do not need to be run again\n",
    "\n",
    "#psmCounts = []\n",
    "#sampleNums = []\n",
    "#dbTypes = []\n",
    "#for res in [x for x in resPath.iterdir() if x.suffix == '.tsv']:\n",
    "#    sampleNums.append(res.name[:4])\n",
    "#    resName = res.name.split('.')[0]\n",
    "#    dbName = resName[56:]\n",
    "#    if dbName == 'speciesVSstrain':\n",
    "#        dbTypes.append('baseline')\n",
    "#    else:\n",
    "#        dbTypes.append(dbName)\n",
    "#    allowedPeps = allowedDict[dbName]\n",
    "#    count = 0\n",
    "#    with res.open(mode='r') as infile:\n",
    "#        reader = csv.reader(infile, delimiter='\\t')\n",
    "#        for row in reader:\n",
    "#            protType = determineHitType(row)\n",
    "#            if protType == 'first':\n",
    "#                continue\n",
    "#            if not isSignificant(row):\n",
    "#                break\n",
    "#            if protType == 'bacteria' or protType == 'human' and row[PEPTIDE] in allowedPeps:\n",
    "#                count += 1\n",
    "#    psmCounts.append(count)\n",
    "#    print(f'Finished with {res.name}')"
   ]
  },
  {
   "cell_type": "code",
   "execution_count": 11,
   "metadata": {},
   "outputs": [],
   "source": [
    "#resultDF = pd.DataFrame({'sample':sampleNums, 'database':dbTypes, 'psms':psmCounts})\n",
    "#resultDF.to_csv(path_or_buf=countPath)"
   ]
  },
  {
   "cell_type": "markdown",
   "metadata": {},
   "source": [
    "I'm treating the 3 separate databases at each size step as biological replicates and the 6 different samples as technical replicates. So I'll take the average fold change for each database across all 6 samples, then plot the 3 points for each category of database that represent those average fold-changes."
   ]
  },
  {
   "cell_type": "code",
   "execution_count": 17,
   "metadata": {},
   "outputs": [],
   "source": [
    "# Read in the data\n",
    "resultDF = pd.read_csv(filepath_or_buffer=countPath)"
   ]
  },
  {
   "cell_type": "code",
   "execution_count": 18,
   "metadata": {},
   "outputs": [],
   "source": [
    "# Pull out the psms for the baseline database for each sample\n",
    "baselines = {} # key=sample, value=number of significant psms generated by baseline db\n",
    "for index, row in resultDF.iterrows():\n",
    "    if row['database'] == 'baseline':\n",
    "        baselines[row['sample']] = row['psms']"
   ]
  },
  {
   "cell_type": "code",
   "execution_count": 19,
   "metadata": {},
   "outputs": [],
   "source": [
    "# Get fold changes for all the databases\n",
    "strDBs = ['str20-0', 'str20-1', 'str20-2', 'str40-0', 'str40-1', 'str40-2', 'str60-0', 'str60-1', 'str60-2', 'str80-0', 'str80-1', 'str80-2', 'str100-0', 'str100-1', 'str100-2']\n",
    "speDBs = ['spe20-0', 'spe20-1', 'spe20-2', 'spe40-0', 'spe40-1', 'spe40-2', 'spe60-0', 'spe60-1', 'spe60-2', 'spe80-0', 'spe80-1', 'spe80-2', 'spe100-0', 'spe100-1', 'spe100-2']\n",
    "strChanges = [[] for x in range(len(strDBs))]\n",
    "speChanges = [[] for x in range(len(speDBs))]\n",
    "for index, row in resultDF.iterrows():\n",
    "    loc = -1\n",
    "    toAppend = None\n",
    "    if row['database'].find('str') != -1:\n",
    "        loc = strDBs.index(row['database'])\n",
    "        toAppend = strChanges\n",
    "    elif row['database'].find('spe') != -1:\n",
    "        loc = speDBs.index(row['database'])\n",
    "        toAppend = speChanges\n",
    "    else:\n",
    "        continue\n",
    "    delta = row['psms'] / baselines[row['sample']]\n",
    "    toAppend[loc].append(delta)"
   ]
  },
  {
   "cell_type": "code",
   "execution_count": 20,
   "metadata": {},
   "outputs": [],
   "source": [
    "# Take average fold change for each database across all 6 samples\n",
    "strAvgChanges = []\n",
    "speAvgChanges = []\n",
    "for i in range(len(strChanges)):\n",
    "    strAvgChanges.append(np.average(strChanges[i]))\n",
    "    speAvgChanges.append(np.average(speChanges[i]))"
   ]
  },
  {
   "cell_type": "code",
   "execution_count": 21,
   "metadata": {},
   "outputs": [
    {
     "data": {
      "image/png": "[encoded data removed]",
      "text/plain": [
       "<Figure size 432x288 with 1 Axes>"
      ]
     },
     "metadata": {
      "needs_background": "light"
     },
     "output_type": "display_data"
    }
   ],
   "source": [
    "countDF = pd.DataFrame({'Fold-Change Significant PSMs':strAvgChanges + speAvgChanges, 'Database Type':typeLabels, 'Additional Individuals':countLabels})\n",
    "countGraph = sns.pointplot(x='Additional Individuals', y='Fold-Change Significant PSMs', hue='Database Type', data=countDF, join=False, capsize=0.3)\n",
    "countGraph.set(ylim=(0.8, 1.01))\n",
    "saveFig(countGraph, figPath.joinpath('psms_comparison.png'))"
   ]
  }
 ],
 "metadata": {
  "kernelspec": {
   "display_name": "Python 3",
   "language": "python",
   "name": "python3"
  },
  "language_info": {
   "codemirror_mode": {
    "name": "ipython",
    "version": 3
   },
   "file_extension": ".py",
   "mimetype": "text/x-python",
   "name": "python",
   "nbconvert_exporter": "python",
   "pygments_lexer": "ipython3",
   "version": "3.6.4"
  }
 },
 "nbformat": 4,
 "nbformat_minor": 4
}
